{
 "cells": [
  {
   "cell_type": "markdown",
   "metadata": {},
   "source": [
    "# ToDos\n",
    "- Anzahl der Artikel innerhalb jeder Kategorie untersuchen\n",
    "  - Auch innerhalb jedes Attributes"
   ]
  },
  {
   "cell_type": "code",
   "execution_count": 133,
   "metadata": {},
   "outputs": [],
   "source": [
    "import pandas as pd\n",
    "import seaborn as sn\n",
    "import matplotlib.pyplot as plt\n",
    "from sklearn import tree\n",
    "from sklearn.model_selection import train_test_split\n",
    "from sklearn import preprocessing\n",
    "from sklearn import ensemble\n",
    "from sklearn import neighbors\n",
    "from sklearn import svm\n",
    "from sklearn import metrics\n",
    "import numpy as np\n",
    "import matplotlib.pyplot as plt\n",
    "from sklearn.model_selection import GridSearchCV\n",
    "from graphviz import Source"
   ]
  },
  {
   "cell_type": "code",
   "execution_count": 134,
   "metadata": {},
   "outputs": [],
   "source": [
    "df = pd.read_excel(\"..\\data\\Returns_Export.xlsx\")"
   ]
  },
  {
   "cell_type": "code",
   "execution_count": 135,
   "metadata": {},
   "outputs": [
    {
     "data": {
      "text/html": [
       "<div>\n",
       "<style scoped>\n",
       "    .dataframe tbody tr th:only-of-type {\n",
       "        vertical-align: middle;\n",
       "    }\n",
       "\n",
       "    .dataframe tbody tr th {\n",
       "        vertical-align: top;\n",
       "    }\n",
       "\n",
       "    .dataframe thead th {\n",
       "        text-align: right;\n",
       "    }\n",
       "</style>\n",
       "<table border=\"1\" class=\"dataframe\">\n",
       "  <thead>\n",
       "    <tr style=\"text-align: right;\">\n",
       "      <th></th>\n",
       "      <th>redatum</th>\n",
       "      <th>artikelbeschreibung</th>\n",
       "      <th>verkaufspreis</th>\n",
       "      <th>platformspecificorderid</th>\n",
       "      <th>VK</th>\n",
       "      <th>Erstattungstyp</th>\n",
       "      <th>Erstattungsart</th>\n",
       "      <th>Artikelpreis inkl Versand</th>\n",
       "      <th>User_Id</th>\n",
       "      <th>Vendor_Id</th>\n",
       "      <th>Asin</th>\n",
       "      <th>Category</th>\n",
       "      <th>client_condition_user_id</th>\n",
       "      <th>Condition</th>\n",
       "      <th>Item_State</th>\n",
       "      <th>Accessory_Complete</th>\n",
       "      <th>OVP</th>\n",
       "      <th>Repaired</th>\n",
       "      <th>Case_Swap</th>\n",
       "      <th>Seal_Sticker_Damaged</th>\n",
       "    </tr>\n",
       "  </thead>\n",
       "  <tbody>\n",
       "    <tr>\n",
       "      <th>0</th>\n",
       "      <td>2021-12-14</td>\n",
       "      <td>Baby Wasserspielzeug Addmos Badespielzeug Spie...</td>\n",
       "      <td>9.99</td>\n",
       "      <td>07-08009-64134</td>\n",
       "      <td>Verkauf</td>\n",
       "      <td>0</td>\n",
       "      <td>0</td>\n",
       "      <td>9.99</td>\n",
       "      <td>265.0</td>\n",
       "      <td>23.0</td>\n",
       "      <td>B083DQH3DY</td>\n",
       "      <td>Toy</td>\n",
       "      <td>265.0</td>\n",
       "      <td>BWare</td>\n",
       "      <td>Used</td>\n",
       "      <td>1.0</td>\n",
       "      <td>3.0</td>\n",
       "      <td>No</td>\n",
       "      <td>False</td>\n",
       "      <td>0.0</td>\n",
       "    </tr>\n",
       "    <tr>\n",
       "      <th>1</th>\n",
       "      <td>2021-05-13</td>\n",
       "      <td>Pokemon Sun &amp; Moon Theme Deck Pack Waldschatte...</td>\n",
       "      <td>9.99</td>\n",
       "      <td>16-07049-22699</td>\n",
       "      <td>Verkauf</td>\n",
       "      <td>0</td>\n",
       "      <td>0</td>\n",
       "      <td>9.99</td>\n",
       "      <td>265.0</td>\n",
       "      <td>23.0</td>\n",
       "      <td>B01MZ6A8YO</td>\n",
       "      <td>Toy</td>\n",
       "      <td>265.0</td>\n",
       "      <td>BWare</td>\n",
       "      <td>Used</td>\n",
       "      <td>1.0</td>\n",
       "      <td>3.0</td>\n",
       "      <td>No</td>\n",
       "      <td>False</td>\n",
       "      <td>0.0</td>\n",
       "    </tr>\n",
       "    <tr>\n",
       "      <th>2</th>\n",
       "      <td>2021-09-20</td>\n",
       "      <td>Spielpuppe Enchantimals GNP16 Schneemann Sharl...</td>\n",
       "      <td>9.99</td>\n",
       "      <td>19-07627-72302</td>\n",
       "      <td>Verkauf</td>\n",
       "      <td>0</td>\n",
       "      <td>0</td>\n",
       "      <td>9.99</td>\n",
       "      <td>265.0</td>\n",
       "      <td>23.0</td>\n",
       "      <td>B084L11FCZ</td>\n",
       "      <td>Toy</td>\n",
       "      <td>265.0</td>\n",
       "      <td>BWare</td>\n",
       "      <td>Used</td>\n",
       "      <td>1.0</td>\n",
       "      <td>3.0</td>\n",
       "      <td>No</td>\n",
       "      <td>False</td>\n",
       "      <td>0.0</td>\n",
       "    </tr>\n",
       "    <tr>\n",
       "      <th>3</th>\n",
       "      <td>2021-04-15</td>\n",
       "      <td>Schlagzeug Colorbaby Spielzeug Kinder Musik In...</td>\n",
       "      <td>9.99</td>\n",
       "      <td>17-06905-72218</td>\n",
       "      <td>Verkauf</td>\n",
       "      <td>0</td>\n",
       "      <td>0</td>\n",
       "      <td>9.99</td>\n",
       "      <td>265.0</td>\n",
       "      <td>23.0</td>\n",
       "      <td>B07X4ZGCPQ</td>\n",
       "      <td>Toy</td>\n",
       "      <td>265.0</td>\n",
       "      <td>BWare</td>\n",
       "      <td>Used</td>\n",
       "      <td>1.0</td>\n",
       "      <td>3.0</td>\n",
       "      <td>No</td>\n",
       "      <td>False</td>\n",
       "      <td>0.0</td>\n",
       "    </tr>\n",
       "    <tr>\n",
       "      <th>4</th>\n",
       "      <td>2021-06-14</td>\n",
       "      <td>Ravensburger tiptoi 00737 Schatzsuche in der B...</td>\n",
       "      <td>9.99</td>\n",
       "      <td>08-07202-18906</td>\n",
       "      <td>Verkauf</td>\n",
       "      <td>0</td>\n",
       "      <td>0</td>\n",
       "      <td>9.99</td>\n",
       "      <td>265.0</td>\n",
       "      <td>23.0</td>\n",
       "      <td>B00V8KE8N6</td>\n",
       "      <td>Toy</td>\n",
       "      <td>265.0</td>\n",
       "      <td>BWare</td>\n",
       "      <td>Used</td>\n",
       "      <td>1.0</td>\n",
       "      <td>3.0</td>\n",
       "      <td>No</td>\n",
       "      <td>False</td>\n",
       "      <td>0.0</td>\n",
       "    </tr>\n",
       "  </tbody>\n",
       "</table>\n",
       "</div>"
      ],
      "text/plain": [
       "     redatum                                artikelbeschreibung  \\\n",
       "0 2021-12-14  Baby Wasserspielzeug Addmos Badespielzeug Spie...   \n",
       "1 2021-05-13  Pokemon Sun & Moon Theme Deck Pack Waldschatte...   \n",
       "2 2021-09-20  Spielpuppe Enchantimals GNP16 Schneemann Sharl...   \n",
       "3 2021-04-15  Schlagzeug Colorbaby Spielzeug Kinder Musik In...   \n",
       "4 2021-06-14  Ravensburger tiptoi 00737 Schatzsuche in der B...   \n",
       "\n",
       "   verkaufspreis platformspecificorderid       VK Erstattungstyp  \\\n",
       "0           9.99          07-08009-64134  Verkauf              0   \n",
       "1           9.99          16-07049-22699  Verkauf              0   \n",
       "2           9.99          19-07627-72302  Verkauf              0   \n",
       "3           9.99          17-06905-72218  Verkauf              0   \n",
       "4           9.99          08-07202-18906  Verkauf              0   \n",
       "\n",
       "  Erstattungsart  Artikelpreis inkl Versand  User_Id  Vendor_Id        Asin  \\\n",
       "0              0                       9.99    265.0       23.0  B083DQH3DY   \n",
       "1              0                       9.99    265.0       23.0  B01MZ6A8YO   \n",
       "2              0                       9.99    265.0       23.0  B084L11FCZ   \n",
       "3              0                       9.99    265.0       23.0  B07X4ZGCPQ   \n",
       "4              0                       9.99    265.0       23.0  B00V8KE8N6   \n",
       "\n",
       "  Category  client_condition_user_id Condition Item_State  Accessory_Complete  \\\n",
       "0      Toy                     265.0     BWare       Used                 1.0   \n",
       "1      Toy                     265.0     BWare       Used                 1.0   \n",
       "2      Toy                     265.0     BWare       Used                 1.0   \n",
       "3      Toy                     265.0     BWare       Used                 1.0   \n",
       "4      Toy                     265.0     BWare       Used                 1.0   \n",
       "\n",
       "   OVP Repaired Case_Swap  Seal_Sticker_Damaged  \n",
       "0  3.0       No     False                   0.0  \n",
       "1  3.0       No     False                   0.0  \n",
       "2  3.0       No     False                   0.0  \n",
       "3  3.0       No     False                   0.0  \n",
       "4  3.0       No     False                   0.0  "
      ]
     },
     "execution_count": 135,
     "metadata": {},
     "output_type": "execute_result"
    }
   ],
   "source": [
    "df.head()"
   ]
  },
  {
   "cell_type": "code",
   "execution_count": 136,
   "metadata": {},
   "outputs": [
    {
     "name": "stdout",
     "output_type": "stream",
     "text": [
      "<class 'pandas.core.frame.DataFrame'>\n",
      "RangeIndex: 183257 entries, 0 to 183256\n",
      "Data columns (total 20 columns):\n",
      " #   Column                     Non-Null Count   Dtype         \n",
      "---  ------                     --------------   -----         \n",
      " 0   redatum                    183257 non-null  datetime64[ns]\n",
      " 1   artikelbeschreibung        183257 non-null  object        \n",
      " 2   verkaufspreis              183257 non-null  float64       \n",
      " 3   platformspecificorderid    183257 non-null  object        \n",
      " 4   VK                         183257 non-null  object        \n",
      " 5   Erstattungstyp             183243 non-null  object        \n",
      " 6   Erstattungsart             183243 non-null  object        \n",
      " 7   Artikelpreis inkl Versand  183257 non-null  float64       \n",
      " 8   User_Id                    178475 non-null  float64       \n",
      " 9   Vendor_Id                  178474 non-null  float64       \n",
      " 10  Asin                       177029 non-null  object        \n",
      " 11  Category                   178475 non-null  object        \n",
      " 12  client_condition_user_id   178465 non-null  float64       \n",
      " 13  Condition                  178465 non-null  object        \n",
      " 14  Item_State                 178465 non-null  object        \n",
      " 15  Accessory_Complete         178465 non-null  float64       \n",
      " 16  OVP                        178465 non-null  float64       \n",
      " 17  Repaired                   178465 non-null  object        \n",
      " 18  Case_Swap                  178465 non-null  object        \n",
      " 19  Seal_Sticker_Damaged       178465 non-null  float64       \n",
      "dtypes: datetime64[ns](1), float64(8), object(11)\n",
      "memory usage: 28.0+ MB\n"
     ]
    }
   ],
   "source": [
    "df.info()"
   ]
  },
  {
   "cell_type": "code",
   "execution_count": 137,
   "metadata": {},
   "outputs": [
    {
     "data": {
      "text/plain": [
       "<bound method NDFrame.describe of           redatum                                artikelbeschreibung  \\\n",
       "0      2021-12-14  Baby Wasserspielzeug Addmos Badespielzeug Spie...   \n",
       "1      2021-05-13  Pokemon Sun & Moon Theme Deck Pack Waldschatte...   \n",
       "2      2021-09-20  Spielpuppe Enchantimals GNP16 Schneemann Sharl...   \n",
       "3      2021-04-15  Schlagzeug Colorbaby Spielzeug Kinder Musik In...   \n",
       "4      2021-06-14  Ravensburger tiptoi 00737 Schatzsuche in der B...   \n",
       "...           ...                                                ...   \n",
       "183252 2021-10-25  Druckerpapier Kopierpapier A4 80g/m² weiß, all...   \n",
       "183253 2021-10-25  Druckerpapier Kopierpapier A4 80g/m² weiß, all...   \n",
       "183254 2021-10-26  Druckerpapier Kopierpapier A4 80g/m² weiß, all...   \n",
       "183255 2021-10-28  Druckerpapier Kopierpapier A4 80g/m² weiß, all...   \n",
       "183256 2021-10-29  Druckerpapier Kopierpapier A4 80g/m² weiß, all...   \n",
       "\n",
       "        verkaufspreis platformspecificorderid       VK Erstattungstyp  \\\n",
       "0                9.99          07-08009-64134  Verkauf              0   \n",
       "1                9.99          16-07049-22699  Verkauf              0   \n",
       "2                9.99          19-07627-72302  Verkauf              0   \n",
       "3                9.99          17-06905-72218  Verkauf              0   \n",
       "4                9.99          08-07202-18906  Verkauf              0   \n",
       "...               ...                     ...      ...            ...   \n",
       "183252          22.99          20-07776-13006  Verkauf              0   \n",
       "183253          22.99          27-07775-42230  Verkauf              0   \n",
       "183254          22.99          24-07794-29768  Verkauf              0   \n",
       "183255          22.99          25-07788-46390  Verkauf              0   \n",
       "183256          22.99          21-07790-53687  Verkauf              0   \n",
       "\n",
       "       Erstattungsart  Artikelpreis inkl Versand  User_Id  Vendor_Id  \\\n",
       "0                   0                       9.99    265.0       23.0   \n",
       "1                   0                       9.99    265.0       23.0   \n",
       "2                   0                       9.99    265.0       23.0   \n",
       "3                   0                       9.99    265.0       23.0   \n",
       "4                   0                       9.99    265.0       23.0   \n",
       "...               ...                        ...      ...        ...   \n",
       "183252              0                      22.99      NaN        NaN   \n",
       "183253              0                      22.99      NaN        NaN   \n",
       "183254              0                      22.99      NaN        NaN   \n",
       "183255              0                      22.99      NaN        NaN   \n",
       "183256              0                      22.99      NaN        NaN   \n",
       "\n",
       "              Asin Category  client_condition_user_id Condition Item_State  \\\n",
       "0       B083DQH3DY      Toy                     265.0     BWare       Used   \n",
       "1       B01MZ6A8YO      Toy                     265.0     BWare       Used   \n",
       "2       B084L11FCZ      Toy                     265.0     BWare       Used   \n",
       "3       B07X4ZGCPQ      Toy                     265.0     BWare       Used   \n",
       "4       B00V8KE8N6      Toy                     265.0     BWare       Used   \n",
       "...            ...      ...                       ...       ...        ...   \n",
       "183252         NaN      NaN                       NaN       NaN        NaN   \n",
       "183253         NaN      NaN                       NaN       NaN        NaN   \n",
       "183254         NaN      NaN                       NaN       NaN        NaN   \n",
       "183255         NaN      NaN                       NaN       NaN        NaN   \n",
       "183256         NaN      NaN                       NaN       NaN        NaN   \n",
       "\n",
       "        Accessory_Complete  OVP Repaired Case_Swap  Seal_Sticker_Damaged  \n",
       "0                      1.0  3.0       No     False                   0.0  \n",
       "1                      1.0  3.0       No     False                   0.0  \n",
       "2                      1.0  3.0       No     False                   0.0  \n",
       "3                      1.0  3.0       No     False                   0.0  \n",
       "4                      1.0  3.0       No     False                   0.0  \n",
       "...                    ...  ...      ...       ...                   ...  \n",
       "183252                 NaN  NaN      NaN       NaN                   NaN  \n",
       "183253                 NaN  NaN      NaN       NaN                   NaN  \n",
       "183254                 NaN  NaN      NaN       NaN                   NaN  \n",
       "183255                 NaN  NaN      NaN       NaN                   NaN  \n",
       "183256                 NaN  NaN      NaN       NaN                   NaN  \n",
       "\n",
       "[183257 rows x 20 columns]>"
      ]
     },
     "execution_count": 137,
     "metadata": {},
     "output_type": "execute_result"
    }
   ],
   "source": [
    "df.describe"
   ]
  },
  {
   "cell_type": "code",
   "execution_count": 138,
   "metadata": {},
   "outputs": [],
   "source": [
    "refunds = df.loc[(df[\"Erstattungsart\"] != 0) & (df[\"Erstattungsart\"] != \"NaN\")]\n",
    "all_pos = df\n",
    "all_pos[\"Erstattungstyp\"].replace(0, \"Verkauf\", inplace=True)"
   ]
  },
  {
   "cell_type": "code",
   "execution_count": 139,
   "metadata": {},
   "outputs": [
    {
     "data": {
      "text/html": [
       "<div>\n",
       "<style scoped>\n",
       "    .dataframe tbody tr th:only-of-type {\n",
       "        vertical-align: middle;\n",
       "    }\n",
       "\n",
       "    .dataframe tbody tr th {\n",
       "        vertical-align: top;\n",
       "    }\n",
       "\n",
       "    .dataframe thead th {\n",
       "        text-align: right;\n",
       "    }\n",
       "</style>\n",
       "<table border=\"1\" class=\"dataframe\">\n",
       "  <thead>\n",
       "    <tr style=\"text-align: right;\">\n",
       "      <th></th>\n",
       "      <th>redatum</th>\n",
       "      <th>artikelbeschreibung</th>\n",
       "      <th>verkaufspreis</th>\n",
       "      <th>platformspecificorderid</th>\n",
       "      <th>VK</th>\n",
       "      <th>Erstattungstyp</th>\n",
       "      <th>Erstattungsart</th>\n",
       "      <th>Artikelpreis inkl Versand</th>\n",
       "      <th>User_Id</th>\n",
       "      <th>Vendor_Id</th>\n",
       "      <th>Asin</th>\n",
       "      <th>Category</th>\n",
       "      <th>client_condition_user_id</th>\n",
       "      <th>Condition</th>\n",
       "      <th>Item_State</th>\n",
       "      <th>Accessory_Complete</th>\n",
       "      <th>OVP</th>\n",
       "      <th>Repaired</th>\n",
       "      <th>Case_Swap</th>\n",
       "      <th>Seal_Sticker_Damaged</th>\n",
       "    </tr>\n",
       "  </thead>\n",
       "  <tbody>\n",
       "    <tr>\n",
       "      <th>134534</th>\n",
       "      <td>2021-08-25</td>\n",
       "      <td>RockJam E-Gitarren-Set in Standardgröße E-Gita...</td>\n",
       "      <td>35.50</td>\n",
       "      <td>05-07518-23081</td>\n",
       "      <td>Verkauf</td>\n",
       "      <td>NaN</td>\n",
       "      <td>NaN</td>\n",
       "      <td>54.723077</td>\n",
       "      <td>226.0</td>\n",
       "      <td>23.0</td>\n",
       "      <td>B01M66OZ0V</td>\n",
       "      <td>MusicInstruments</td>\n",
       "      <td>226.0</td>\n",
       "      <td>Damage</td>\n",
       "      <td>Used</td>\n",
       "      <td>2.0</td>\n",
       "      <td>3.0</td>\n",
       "      <td>No</td>\n",
       "      <td>False</td>\n",
       "      <td>0.0</td>\n",
       "    </tr>\n",
       "    <tr>\n",
       "      <th>134535</th>\n",
       "      <td>2021-08-25</td>\n",
       "      <td>Akustikgitarre MSA Gitarre Instrument 4/4 Größ...</td>\n",
       "      <td>15.15</td>\n",
       "      <td>05-07518-23081</td>\n",
       "      <td>Verkauf</td>\n",
       "      <td>NaN</td>\n",
       "      <td>NaN</td>\n",
       "      <td>34.373077</td>\n",
       "      <td>314.0</td>\n",
       "      <td>23.0</td>\n",
       "      <td>B01N6C6PJ3</td>\n",
       "      <td>MusicInstruments</td>\n",
       "      <td>314.0</td>\n",
       "      <td>Acceptable</td>\n",
       "      <td>Used</td>\n",
       "      <td>0.0</td>\n",
       "      <td>0.0</td>\n",
       "      <td>No</td>\n",
       "      <td>False</td>\n",
       "      <td>0.0</td>\n",
       "    </tr>\n",
       "    <tr>\n",
       "      <th>134536</th>\n",
       "      <td>2021-08-25</td>\n",
       "      <td>E-Gitarre RockJam Gitarre Saiteninstrument Sun...</td>\n",
       "      <td>53.88</td>\n",
       "      <td>05-07518-23081</td>\n",
       "      <td>Verkauf</td>\n",
       "      <td>NaN</td>\n",
       "      <td>NaN</td>\n",
       "      <td>73.103077</td>\n",
       "      <td>314.0</td>\n",
       "      <td>23.0</td>\n",
       "      <td>B01M6ZH0AW</td>\n",
       "      <td>MusicInstruments</td>\n",
       "      <td>314.0</td>\n",
       "      <td>NonFunctional</td>\n",
       "      <td>Used</td>\n",
       "      <td>1.0</td>\n",
       "      <td>0.0</td>\n",
       "      <td>No</td>\n",
       "      <td>False</td>\n",
       "      <td>0.0</td>\n",
       "    </tr>\n",
       "    <tr>\n",
       "      <th>134537</th>\n",
       "      <td>2021-08-25</td>\n",
       "      <td>Akustikgitarre Gitarre Martin Smith Akustik In...</td>\n",
       "      <td>20.50</td>\n",
       "      <td>05-07518-23081</td>\n",
       "      <td>Verkauf</td>\n",
       "      <td>NaN</td>\n",
       "      <td>NaN</td>\n",
       "      <td>39.723077</td>\n",
       "      <td>314.0</td>\n",
       "      <td>23.0</td>\n",
       "      <td>B00UOUK4IE</td>\n",
       "      <td>MusicInstruments</td>\n",
       "      <td>314.0</td>\n",
       "      <td>Damage</td>\n",
       "      <td>Used</td>\n",
       "      <td>1.0</td>\n",
       "      <td>2.0</td>\n",
       "      <td>No</td>\n",
       "      <td>False</td>\n",
       "      <td>0.0</td>\n",
       "    </tr>\n",
       "    <tr>\n",
       "      <th>134538</th>\n",
       "      <td>2021-06-07</td>\n",
       "      <td>ReNr 441799 ReNr 439035 EGitarre Display4top R...</td>\n",
       "      <td>25.00</td>\n",
       "      <td>05-07133-60124</td>\n",
       "      <td>Verkauf</td>\n",
       "      <td>Teilerstattung (TE)</td>\n",
       "      <td>Defekt</td>\n",
       "      <td>25.000000</td>\n",
       "      <td>314.0</td>\n",
       "      <td>23.0</td>\n",
       "      <td>B0863H39LF</td>\n",
       "      <td>MusicInstruments</td>\n",
       "      <td>314.0</td>\n",
       "      <td>VeryGood</td>\n",
       "      <td>Used</td>\n",
       "      <td>2.0</td>\n",
       "      <td>0.0</td>\n",
       "      <td>No</td>\n",
       "      <td>False</td>\n",
       "      <td>0.0</td>\n",
       "    </tr>\n",
       "  </tbody>\n",
       "</table>\n",
       "</div>"
      ],
      "text/plain": [
       "          redatum                                artikelbeschreibung  \\\n",
       "134534 2021-08-25  RockJam E-Gitarren-Set in Standardgröße E-Gita...   \n",
       "134535 2021-08-25  Akustikgitarre MSA Gitarre Instrument 4/4 Größ...   \n",
       "134536 2021-08-25  E-Gitarre RockJam Gitarre Saiteninstrument Sun...   \n",
       "134537 2021-08-25  Akustikgitarre Gitarre Martin Smith Akustik In...   \n",
       "134538 2021-06-07  ReNr 441799 ReNr 439035 EGitarre Display4top R...   \n",
       "\n",
       "        verkaufspreis platformspecificorderid       VK       Erstattungstyp  \\\n",
       "134534          35.50          05-07518-23081  Verkauf                  NaN   \n",
       "134535          15.15          05-07518-23081  Verkauf                  NaN   \n",
       "134536          53.88          05-07518-23081  Verkauf                  NaN   \n",
       "134537          20.50          05-07518-23081  Verkauf                  NaN   \n",
       "134538          25.00          05-07133-60124  Verkauf  Teilerstattung (TE)   \n",
       "\n",
       "       Erstattungsart  Artikelpreis inkl Versand  User_Id  Vendor_Id  \\\n",
       "134534            NaN                  54.723077    226.0       23.0   \n",
       "134535            NaN                  34.373077    314.0       23.0   \n",
       "134536            NaN                  73.103077    314.0       23.0   \n",
       "134537            NaN                  39.723077    314.0       23.0   \n",
       "134538         Defekt                  25.000000    314.0       23.0   \n",
       "\n",
       "              Asin          Category  client_condition_user_id      Condition  \\\n",
       "134534  B01M66OZ0V  MusicInstruments                     226.0         Damage   \n",
       "134535  B01N6C6PJ3  MusicInstruments                     314.0     Acceptable   \n",
       "134536  B01M6ZH0AW  MusicInstruments                     314.0  NonFunctional   \n",
       "134537  B00UOUK4IE  MusicInstruments                     314.0         Damage   \n",
       "134538  B0863H39LF  MusicInstruments                     314.0       VeryGood   \n",
       "\n",
       "       Item_State  Accessory_Complete  OVP Repaired Case_Swap  \\\n",
       "134534       Used                 2.0  3.0       No     False   \n",
       "134535       Used                 0.0  0.0       No     False   \n",
       "134536       Used                 1.0  0.0       No     False   \n",
       "134537       Used                 1.0  2.0       No     False   \n",
       "134538       Used                 2.0  0.0       No     False   \n",
       "\n",
       "        Seal_Sticker_Damaged  \n",
       "134534                   0.0  \n",
       "134535                   0.0  \n",
       "134536                   0.0  \n",
       "134537                   0.0  \n",
       "134538                   0.0  "
      ]
     },
     "execution_count": 139,
     "metadata": {},
     "output_type": "execute_result"
    }
   ],
   "source": [
    "refunds.head()"
   ]
  },
  {
   "cell_type": "code",
   "execution_count": 140,
   "metadata": {},
   "outputs": [
    {
     "name": "stderr",
     "output_type": "stream",
     "text": [
      "c:\\Development\\Anwendungsfelder_Business_Analytics\\.venv\\lib\\site-packages\\pandas\\util\\_decorators.py:311: SettingWithCopyWarning: \n",
      "A value is trying to be set on a copy of a slice from a DataFrame\n",
      "\n",
      "See the caveats in the documentation: https://pandas.pydata.org/pandas-docs/stable/user_guide/indexing.html#returning-a-view-versus-a-copy\n",
      "  return func(*args, **kwargs)\n"
     ]
    }
   ],
   "source": [
    "refunds.dropna(inplace=True)\n",
    "all_pos.dropna(inplace=True)"
   ]
  },
  {
   "cell_type": "code",
   "execution_count": 141,
   "metadata": {},
   "outputs": [
    {
     "data": {
      "text/plain": [
       "(18817, 20)"
      ]
     },
     "execution_count": 141,
     "metadata": {},
     "output_type": "execute_result"
    }
   ],
   "source": [
    "refunds.shape"
   ]
  },
  {
   "cell_type": "code",
   "execution_count": 142,
   "metadata": {},
   "outputs": [
    {
     "data": {
      "text/html": [
       "<div>\n",
       "<style scoped>\n",
       "    .dataframe tbody tr th:only-of-type {\n",
       "        vertical-align: middle;\n",
       "    }\n",
       "\n",
       "    .dataframe tbody tr th {\n",
       "        vertical-align: top;\n",
       "    }\n",
       "\n",
       "    .dataframe thead th {\n",
       "        text-align: right;\n",
       "    }\n",
       "</style>\n",
       "<table border=\"1\" class=\"dataframe\">\n",
       "  <thead>\n",
       "    <tr style=\"text-align: right;\">\n",
       "      <th></th>\n",
       "      <th>redatum</th>\n",
       "      <th>artikelbeschreibung</th>\n",
       "      <th>verkaufspreis</th>\n",
       "      <th>platformspecificorderid</th>\n",
       "      <th>VK</th>\n",
       "      <th>Erstattungstyp</th>\n",
       "      <th>Erstattungsart</th>\n",
       "      <th>Artikelpreis inkl Versand</th>\n",
       "      <th>User_Id</th>\n",
       "      <th>Vendor_Id</th>\n",
       "      <th>Asin</th>\n",
       "      <th>Category</th>\n",
       "      <th>client_condition_user_id</th>\n",
       "      <th>Condition</th>\n",
       "      <th>Item_State</th>\n",
       "      <th>Accessory_Complete</th>\n",
       "      <th>OVP</th>\n",
       "      <th>Repaired</th>\n",
       "      <th>Case_Swap</th>\n",
       "      <th>Seal_Sticker_Damaged</th>\n",
       "    </tr>\n",
       "  </thead>\n",
       "  <tbody>\n",
       "    <tr>\n",
       "      <th>134538</th>\n",
       "      <td>2021-06-07</td>\n",
       "      <td>ReNr 441799 ReNr 439035 EGitarre Display4top R...</td>\n",
       "      <td>25.0</td>\n",
       "      <td>05-07133-60124</td>\n",
       "      <td>Verkauf</td>\n",
       "      <td>Teilerstattung (TE)</td>\n",
       "      <td>Defekt</td>\n",
       "      <td>25.0</td>\n",
       "      <td>314.0</td>\n",
       "      <td>23.0</td>\n",
       "      <td>B0863H39LF</td>\n",
       "      <td>MusicInstruments</td>\n",
       "      <td>314.0</td>\n",
       "      <td>VeryGood</td>\n",
       "      <td>Used</td>\n",
       "      <td>2.0</td>\n",
       "      <td>0.0</td>\n",
       "      <td>No</td>\n",
       "      <td>False</td>\n",
       "      <td>0.0</td>\n",
       "    </tr>\n",
       "    <tr>\n",
       "      <th>134540</th>\n",
       "      <td>2021-01-12</td>\n",
       "      <td>ReNr 396232 ReNr 390034 Gaming Headset Astro A...</td>\n",
       "      <td>125.9</td>\n",
       "      <td>18-06280-86579</td>\n",
       "      <td>Verkauf</td>\n",
       "      <td>Retoure (RS)</td>\n",
       "      <td>Defekt</td>\n",
       "      <td>125.9</td>\n",
       "      <td>150.0</td>\n",
       "      <td>23.0</td>\n",
       "      <td>B07TTB3SR2</td>\n",
       "      <td>VideoGames</td>\n",
       "      <td>150.0</td>\n",
       "      <td>NonFunctional</td>\n",
       "      <td>Used</td>\n",
       "      <td>1.0</td>\n",
       "      <td>1.0</td>\n",
       "      <td>No</td>\n",
       "      <td>False</td>\n",
       "      <td>0.0</td>\n",
       "    </tr>\n",
       "    <tr>\n",
       "      <th>134547</th>\n",
       "      <td>2022-03-21</td>\n",
       "      <td>ReNr 535089 Sitzbank Stagg PBH-780 BK P V/BK K...</td>\n",
       "      <td>30.0</td>\n",
       "      <td>15-08390-32712</td>\n",
       "      <td>Verkauf</td>\n",
       "      <td>Teilerstattung (TE)</td>\n",
       "      <td>Defekt</td>\n",
       "      <td>30.0</td>\n",
       "      <td>351.0</td>\n",
       "      <td>23.0</td>\n",
       "      <td>B0064UUYYM</td>\n",
       "      <td>MusicInstruments</td>\n",
       "      <td>351.0</td>\n",
       "      <td>LikeNew</td>\n",
       "      <td>Used</td>\n",
       "      <td>1.0</td>\n",
       "      <td>4.0</td>\n",
       "      <td>No</td>\n",
       "      <td>False</td>\n",
       "      <td>0.0</td>\n",
       "    </tr>\n",
       "    <tr>\n",
       "      <th>134550</th>\n",
       "      <td>2022-01-24</td>\n",
       "      <td>ReNr 522075 Controller Turtle Beach Recon Weiß...</td>\n",
       "      <td>0.0</td>\n",
       "      <td>27-08155-81914</td>\n",
       "      <td>Ersatz</td>\n",
       "      <td>Ersatz</td>\n",
       "      <td>Ersatz</td>\n",
       "      <td>0.0</td>\n",
       "      <td>324.0</td>\n",
       "      <td>23.0</td>\n",
       "      <td>B0977KM6S7</td>\n",
       "      <td>VideoGames</td>\n",
       "      <td>324.0</td>\n",
       "      <td>VeryGood</td>\n",
       "      <td>Used</td>\n",
       "      <td>1.0</td>\n",
       "      <td>1.0</td>\n",
       "      <td>No</td>\n",
       "      <td>False</td>\n",
       "      <td>0.0</td>\n",
       "    </tr>\n",
       "    <tr>\n",
       "      <th>134551</th>\n",
       "      <td>2022-03-29</td>\n",
       "      <td>ReNr 537473 Kohlendioxid Tester Innenraum Dete...</td>\n",
       "      <td>0.0</td>\n",
       "      <td>13-08435-16229</td>\n",
       "      <td>Ersatz</td>\n",
       "      <td>Ersatz</td>\n",
       "      <td>Ersatz</td>\n",
       "      <td>0.0</td>\n",
       "      <td>268.0</td>\n",
       "      <td>23.0</td>\n",
       "      <td>B08F2F756X</td>\n",
       "      <td>HomeImprovement</td>\n",
       "      <td>324.0</td>\n",
       "      <td>Damage</td>\n",
       "      <td>Used</td>\n",
       "      <td>1.0</td>\n",
       "      <td>2.0</td>\n",
       "      <td>No</td>\n",
       "      <td>False</td>\n",
       "      <td>0.0</td>\n",
       "    </tr>\n",
       "  </tbody>\n",
       "</table>\n",
       "</div>"
      ],
      "text/plain": [
       "          redatum                                artikelbeschreibung  \\\n",
       "134538 2021-06-07  ReNr 441799 ReNr 439035 EGitarre Display4top R...   \n",
       "134540 2021-01-12  ReNr 396232 ReNr 390034 Gaming Headset Astro A...   \n",
       "134547 2022-03-21  ReNr 535089 Sitzbank Stagg PBH-780 BK P V/BK K...   \n",
       "134550 2022-01-24  ReNr 522075 Controller Turtle Beach Recon Weiß...   \n",
       "134551 2022-03-29  ReNr 537473 Kohlendioxid Tester Innenraum Dete...   \n",
       "\n",
       "        verkaufspreis platformspecificorderid       VK       Erstattungstyp  \\\n",
       "134538           25.0          05-07133-60124  Verkauf  Teilerstattung (TE)   \n",
       "134540          125.9          18-06280-86579  Verkauf         Retoure (RS)   \n",
       "134547           30.0          15-08390-32712  Verkauf  Teilerstattung (TE)   \n",
       "134550            0.0          27-08155-81914   Ersatz               Ersatz   \n",
       "134551            0.0          13-08435-16229   Ersatz               Ersatz   \n",
       "\n",
       "       Erstattungsart  Artikelpreis inkl Versand  User_Id  Vendor_Id  \\\n",
       "134538         Defekt                       25.0    314.0       23.0   \n",
       "134540         Defekt                      125.9    150.0       23.0   \n",
       "134547         Defekt                       30.0    351.0       23.0   \n",
       "134550         Ersatz                        0.0    324.0       23.0   \n",
       "134551         Ersatz                        0.0    268.0       23.0   \n",
       "\n",
       "              Asin          Category  client_condition_user_id      Condition  \\\n",
       "134538  B0863H39LF  MusicInstruments                     314.0       VeryGood   \n",
       "134540  B07TTB3SR2        VideoGames                     150.0  NonFunctional   \n",
       "134547  B0064UUYYM  MusicInstruments                     351.0        LikeNew   \n",
       "134550  B0977KM6S7        VideoGames                     324.0       VeryGood   \n",
       "134551  B08F2F756X   HomeImprovement                     324.0         Damage   \n",
       "\n",
       "       Item_State  Accessory_Complete  OVP Repaired Case_Swap  \\\n",
       "134538       Used                 2.0  0.0       No     False   \n",
       "134540       Used                 1.0  1.0       No     False   \n",
       "134547       Used                 1.0  4.0       No     False   \n",
       "134550       Used                 1.0  1.0       No     False   \n",
       "134551       Used                 1.0  2.0       No     False   \n",
       "\n",
       "        Seal_Sticker_Damaged  \n",
       "134538                   0.0  \n",
       "134540                   0.0  \n",
       "134547                   0.0  \n",
       "134550                   0.0  \n",
       "134551                   0.0  "
      ]
     },
     "execution_count": 142,
     "metadata": {},
     "output_type": "execute_result"
    }
   ],
   "source": [
    "refunds.head()"
   ]
  },
  {
   "cell_type": "code",
   "execution_count": 143,
   "metadata": {},
   "outputs": [
    {
     "data": {
      "image/png": "[encoded data removed]",
      "text/plain": [
       "<Figure size 432x288 with 2 Axes>"
      ]
     },
     "metadata": {
      "needs_background": "light"
     },
     "output_type": "display_data"
    }
   ],
   "source": [
    "corrMatrix = refunds.corr()\n",
    "sn.heatmap(corrMatrix, annot=True)\n",
    "plt.show()"
   ]
  },
  {
   "cell_type": "code",
   "execution_count": 144,
   "metadata": {},
   "outputs": [
    {
     "name": "stdout",
     "output_type": "stream",
     "text": [
      "['MusicInstruments' 'VideoGames' 'HomeImprovement' 'VideoGamesAccessories'\n",
      " 'OfficeProduct' 'HomeEntertainment' 'ElectronicAccessories'\n",
      " 'ComputerAccessories' 'Toy' 'PersonalComputer' 'Wireless'\n",
      " 'HealthPersonalCare' 'Electronics' 'Drugstore' 'Beauty' 'AutoPart'\n",
      " 'Tools' 'AutomotivePartsandAccessories' 'Jewelry' 'Luggage'\n",
      " 'SportOutdoor' 'Watch' 'SchoolStationeryOfficeSupplies' 'CameraPhoto'\n",
      " 'PetProducts' 'Music' 'VideoGamesConsoles' 'Clothing' 'PhoneAccessory'\n",
      " 'Kitchen' 'Home' 'LawnPatioGarden' 'GiftCard' 'BabyProduct' 'Movies'\n",
      " 'KitchenHousehold' 'SportingGoods' 'BuildingCenter' 'OutdoorLiving'\n",
      " 'Navigation' 'BISS' 'SoundAndRecordingEquipment' 'Hobbies' 'Grocery'\n",
      " 'Smartphones' 'Books' 'AutoAccessory' 'Tablets'\n",
      " 'CommercialIndustrialScience' 'DigitalVideoGames' 'LargeAppliances'\n",
      " 'Shoes' 'Furniture' 'Lighting' 'Video' 'PortableDevices' 'MobilePhones'\n",
      " 'Software' 'MotorcyclePart']\n",
      "59\n",
      "VideoGames                        3333\n",
      "MusicInstruments                  2769\n",
      "Toy                               2603\n",
      "Watch                             2371\n",
      "VideoGamesAccessories             1328\n",
      "OfficeProduct                     1122\n",
      "Grocery                           1019\n",
      "Jewelry                            713\n",
      "VideoGamesConsoles                 689\n",
      "Electronics                        300\n",
      "HomeImprovement                    257\n",
      "PersonalComputer                   257\n",
      "ComputerAccessories                239\n",
      "ElectronicAccessories              187\n",
      "CameraPhoto                        171\n",
      "SportOutdoor                       133\n",
      "Kitchen                            116\n",
      "Home                               106\n",
      "Drugstore                           90\n",
      "SoundAndRecordingEquipment          88\n",
      "Beauty                              83\n",
      "HealthPersonalCare                  70\n",
      "Wireless                            65\n",
      "Music                               65\n",
      "BISS                                57\n",
      "Movies                              56\n",
      "AutomotivePartsandAccessories       50\n",
      "Smartphones                         46\n",
      "Clothing                            43\n",
      "Books                               38\n",
      "BabyProduct                         37\n",
      "SportingGoods                       36\n",
      "BuildingCenter                      24\n",
      "HomeEntertainment                   23\n",
      "LawnPatioGarden                     21\n",
      "DigitalVideoGames                   19\n",
      "SchoolStationeryOfficeSupplies      19\n",
      "KitchenHousehold                    19\n",
      "Luggage                             19\n",
      "Hobbies                             19\n",
      "Tools                               15\n",
      "PetProducts                         13\n",
      "Lighting                            12\n",
      "OutdoorLiving                       11\n",
      "AutoAccessory                       10\n",
      "Tablets                             10\n",
      "AutoPart                            10\n",
      "PhoneAccessory                       8\n",
      "PortableDevices                      7\n",
      "Navigation                           6\n",
      "LargeAppliances                      5\n",
      "Shoes                                2\n",
      "Software                             2\n",
      "GiftCard                             1\n",
      "CommercialIndustrialScience          1\n",
      "Furniture                            1\n",
      "Video                                1\n",
      "MobilePhones                         1\n",
      "MotorcyclePart                       1\n",
      "Name: Category, dtype: int64\n"
     ]
    }
   ],
   "source": [
    "print(refunds.Category.unique())\n",
    "print(refunds.Category.nunique())\n",
    "print(refunds.Category.value_counts())"
   ]
  },
  {
   "cell_type": "code",
   "execution_count": 145,
   "metadata": {},
   "outputs": [
    {
     "name": "stdout",
     "output_type": "stream",
     "text": [
      "['Used' 'New']\n",
      "Used    16816\n",
      "New      2001\n",
      "Name: Item_State, dtype: int64\n"
     ]
    }
   ],
   "source": [
    "print(refunds.Item_State.unique())\n",
    "print(refunds.Item_State.value_counts())"
   ]
  },
  {
   "cell_type": "code",
   "execution_count": 146,
   "metadata": {},
   "outputs": [
    {
     "name": "stdout",
     "output_type": "stream",
     "text": [
      "[2. 1. 0.]\n",
      "1.0    14208\n",
      "0.0     2344\n",
      "2.0     2265\n",
      "Name: Accessory_Complete, dtype: int64\n"
     ]
    }
   ],
   "source": [
    "print(refunds.Accessory_Complete.unique())\n",
    "print(refunds.Accessory_Complete.value_counts())"
   ]
  },
  {
   "cell_type": "code",
   "execution_count": 147,
   "metadata": {},
   "outputs": [
    {
     "name": "stdout",
     "output_type": "stream",
     "text": [
      "[0. 1. 4. 2. 3.]\n",
      "2.0    6411\n",
      "0.0    4337\n",
      "1.0    3949\n",
      "3.0    2444\n",
      "4.0    1676\n",
      "Name: OVP, dtype: int64\n"
     ]
    }
   ],
   "source": [
    "print(refunds.OVP.unique())\n",
    "print(refunds.OVP.value_counts())"
   ]
  },
  {
   "cell_type": "code",
   "execution_count": 148,
   "metadata": {},
   "outputs": [
    {
     "name": "stdout",
     "output_type": "stream",
     "text": [
      "['No' 'Yes' 'NotTried' 'ToRepair' 'Tried']\n",
      "No          16025\n",
      "Yes          1191\n",
      "NotTried     1154\n",
      "Tried         423\n",
      "ToRepair       24\n",
      "Name: Repaired, dtype: int64\n"
     ]
    }
   ],
   "source": [
    "print(refunds.Repaired.unique())\n",
    "print(refunds.Repaired.value_counts())"
   ]
  },
  {
   "cell_type": "code",
   "execution_count": 149,
   "metadata": {},
   "outputs": [
    {
     "name": "stdout",
     "output_type": "stream",
     "text": [
      "[False]\n",
      "False    18817\n",
      "Name: Case_Swap, dtype: int64\n"
     ]
    }
   ],
   "source": [
    "print(refunds.Case_Swap.unique())\n",
    "print(refunds.Case_Swap.value_counts())"
   ]
  },
  {
   "cell_type": "code",
   "execution_count": 150,
   "metadata": {},
   "outputs": [
    {
     "name": "stdout",
     "output_type": "stream",
     "text": [
      "[0. 1.]\n",
      "0.0    17939\n",
      "1.0      878\n",
      "Name: Seal_Sticker_Damaged, dtype: int64\n"
     ]
    }
   ],
   "source": [
    "print(refunds.Seal_Sticker_Damaged.unique())\n",
    "print(refunds.Seal_Sticker_Damaged.value_counts())"
   ]
  },
  {
   "cell_type": "code",
   "execution_count": 151,
   "metadata": {},
   "outputs": [],
   "source": [
    "def exploratoryDataAnalysis(df):\n",
    "    print(df.columns)\n",
    "    print(df.shape)\n",
    "    print(df.info())\n",
    "    print(df.describe())\n",
    "    print(df.head())\n",
    "    print(df.tail())\n",
    "    print(df.dtypes)\n",
    "    print(df.isnull().sum())\n",
    "    print(df.isnull().sum()/df.shape[0])\n",
    "    print(df.isnull().sum()/df.shape[1])\n",
    "    print(df.isnull().sum()/df.shape[0]/df.shape[1])\n",
    "    print(df.isnull().sum()/df.shape[0]/df.shape[1]*100)\n",
    "    print(df.isnull().sum()/df.shape[0]/df.shape[1]*100)"
   ]
  },
  {
   "cell_type": "code",
   "execution_count": 152,
   "metadata": {},
   "outputs": [
    {
     "name": "stderr",
     "output_type": "stream",
     "text": [
      "C:\\Users\\Daniel\\AppData\\Local\\Temp/ipykernel_6056/2394358338.py:4: SettingWithCopyWarning: \n",
      "A value is trying to be set on a copy of a slice from a DataFrame.\n",
      "Try using .loc[row_indexer,col_indexer] = value instead\n",
      "\n",
      "See the caveats in the documentation: https://pandas.pydata.org/pandas-docs/stable/user_guide/indexing.html#returning-a-view-versus-a-copy\n",
      "  df_corr[\"Category\"] = label_encoder_category.fit_transform(refunds[\"Category\"])\n",
      "C:\\Users\\Daniel\\AppData\\Local\\Temp/ipykernel_6056/2394358338.py:7: SettingWithCopyWarning: \n",
      "A value is trying to be set on a copy of a slice from a DataFrame.\n",
      "Try using .loc[row_indexer,col_indexer] = value instead\n",
      "\n",
      "See the caveats in the documentation: https://pandas.pydata.org/pandas-docs/stable/user_guide/indexing.html#returning-a-view-versus-a-copy\n",
      "  df_corr[\"Condition\"] = label_encoder_category.fit_transform(refunds[\"Condition\"])\n",
      "C:\\Users\\Daniel\\AppData\\Local\\Temp/ipykernel_6056/2394358338.py:10: SettingWithCopyWarning: \n",
      "A value is trying to be set on a copy of a slice from a DataFrame.\n",
      "Try using .loc[row_indexer,col_indexer] = value instead\n",
      "\n",
      "See the caveats in the documentation: https://pandas.pydata.org/pandas-docs/stable/user_guide/indexing.html#returning-a-view-versus-a-copy\n",
      "  df_corr[\"Item_State\"] = label_encoder_state.fit_transform(refunds[\"Item_State\"])\n",
      "C:\\Users\\Daniel\\AppData\\Local\\Temp/ipykernel_6056/2394358338.py:13: SettingWithCopyWarning: \n",
      "A value is trying to be set on a copy of a slice from a DataFrame.\n",
      "Try using .loc[row_indexer,col_indexer] = value instead\n",
      "\n",
      "See the caveats in the documentation: https://pandas.pydata.org/pandas-docs/stable/user_guide/indexing.html#returning-a-view-versus-a-copy\n",
      "  df_corr[\"Repaired\"] = label_encoder_repaird.fit_transform(refunds[\"Repaired\"])\n",
      "C:\\Users\\Daniel\\AppData\\Local\\Temp/ipykernel_6056/2394358338.py:16: SettingWithCopyWarning: \n",
      "A value is trying to be set on a copy of a slice from a DataFrame.\n",
      "Try using .loc[row_indexer,col_indexer] = value instead\n",
      "\n",
      "See the caveats in the documentation: https://pandas.pydata.org/pandas-docs/stable/user_guide/indexing.html#returning-a-view-versus-a-copy\n",
      "  df_corr[\"Erstattungstyp\"] = label_encoder_y.fit_transform(refunds[\"Erstattungstyp\"])\n",
      "C:\\Users\\Daniel\\AppData\\Local\\Temp/ipykernel_6056/2394358338.py:18: SettingWithCopyWarning: \n",
      "A value is trying to be set on a copy of a slice from a DataFrame.\n",
      "Try using .loc[row_indexer,col_indexer] = value instead\n",
      "\n",
      "See the caveats in the documentation: https://pandas.pydata.org/pandas-docs/stable/user_guide/indexing.html#returning-a-view-versus-a-copy\n",
      "  df_corr[\"verkaufspreis\"] = np.sqrt(df_corr[\"verkaufspreis\"]**2)\n"
     ]
    },
    {
     "data": {
      "image/png": "[encoded data removed]",
      "text/plain": [
       "<Figure size 432x288 with 2 Axes>"
      ]
     },
     "metadata": {
      "needs_background": "light"
     },
     "output_type": "display_data"
    }
   ],
   "source": [
    "df_corr = refunds[[\"Erstattungstyp\", \"verkaufspreis\", \"User_Id\", \"Category\", \"Condition\", \"Item_State\", \"Accessory_Complete\", \"OVP\", \"Repaired\", \"Seal_Sticker_Damaged\"]]\n",
    "\n",
    "label_encoder_category = preprocessing.LabelEncoder()\n",
    "df_corr[\"Category\"] = label_encoder_category.fit_transform(refunds[\"Category\"])\n",
    "\n",
    "label_encoder_condition = preprocessing.LabelEncoder()\n",
    "df_corr[\"Condition\"] = label_encoder_category.fit_transform(refunds[\"Condition\"])\n",
    "\n",
    "label_encoder_state = preprocessing.LabelEncoder()\n",
    "df_corr[\"Item_State\"] = label_encoder_state.fit_transform(refunds[\"Item_State\"])\n",
    "\n",
    "label_encoder_repaird = preprocessing.LabelEncoder()\n",
    "df_corr[\"Repaired\"] = label_encoder_repaird.fit_transform(refunds[\"Repaired\"])\n",
    "\n",
    "label_encoder_y = preprocessing.LabelEncoder()\n",
    "df_corr[\"Erstattungstyp\"] = label_encoder_y.fit_transform(refunds[\"Erstattungstyp\"])\n",
    "\n",
    "df_corr[\"verkaufspreis\"] = np.sqrt(df_corr[\"verkaufspreis\"]**2)\n",
    "\n",
    "corrMatrix = df_corr.corr()\n",
    "sn.heatmap(corrMatrix, annot=True)\n",
    "plt.show()"
   ]
  },
  {
   "cell_type": "markdown",
   "metadata": {},
   "source": [
    "# Preprocessing"
   ]
  },
  {
   "cell_type": "code",
   "execution_count": 169,
   "metadata": {},
   "outputs": [
    {
     "name": "stderr",
     "output_type": "stream",
     "text": [
      "C:\\Users\\Daniel\\AppData\\Local\\Temp/ipykernel_6056/2648225209.py:21: SettingWithCopyWarning: \n",
      "A value is trying to be set on a copy of a slice from a DataFrame.\n",
      "Try using .loc[row_indexer,col_indexer] = value instead\n",
      "\n",
      "See the caveats in the documentation: https://pandas.pydata.org/pandas-docs/stable/user_guide/indexing.html#returning-a-view-versus-a-copy\n",
      "  X[\"verkaufspreis\"] = np.sqrt(X[\"verkaufspreis\"]**2)\n",
      "C:\\Users\\Daniel\\AppData\\Local\\Temp/ipykernel_6056/2648225209.py:22: SettingWithCopyWarning: \n",
      "A value is trying to be set on a copy of a slice from a DataFrame.\n",
      "Try using .loc[row_indexer,col_indexer] = value instead\n",
      "\n",
      "See the caveats in the documentation: https://pandas.pydata.org/pandas-docs/stable/user_guide/indexing.html#returning-a-view-versus-a-copy\n",
      "  X_all[\"verkaufspreis\"] = np.sqrt(X_all[\"verkaufspreis\"]**2)\n"
     ]
    }
   ],
   "source": [
    "X = refunds[[\"verkaufspreis\", \"User_Id\", \"Category\", \"Condition\", \"Item_State\", \"Accessory_Complete\", \"OVP\", \"Repaired\", \"Seal_Sticker_Damaged\"]]\n",
    "y = refunds[\"Erstattungstyp\"]\n",
    "\n",
    "# Drop values with Erstattungstyp = \"Ersatz\"\n",
    "all_pos = all_pos[all_pos[\"Erstattungstyp\"] != \"Ersatz\"]\n",
    "\n",
    "# Replace the values which are not Verkauf with Erstattung\n",
    "labels = all_pos[\"Erstattungstyp\"].unique()\n",
    "# Drop Verkauf from labels\n",
    "labels = labels[labels != \"Verkauf\"]\n",
    "# Replace values in y with labels\n",
    "all_pos[\"Erstattungstyp\"] = all_pos[\"Erstattungstyp\"].replace(labels, \"Erstattung\")\n",
    "all_pos = all_pos.reset_index(drop=True)\n",
    "\n",
    "X_all = all_pos[[\"verkaufspreis\", \"User_Id\", \"Category\", \"Condition\", \"Item_State\", \"Accessory_Complete\", \"OVP\", \"Repaired\", \"Seal_Sticker_Damaged\"]]\n",
    "y_all = all_pos[\"Erstattungstyp\"]\n",
    "\n",
    "\n",
    "\n",
    "# Transformation des Verkaufspreises, sodass immer positive Werte angezeigt werden\n",
    "X[\"verkaufspreis\"] = np.sqrt(X[\"verkaufspreis\"]**2)\n",
    "X_all[\"verkaufspreis\"] = np.sqrt(X_all[\"verkaufspreis\"]**2)"
   ]
  },
  {
   "cell_type": "code",
   "execution_count": 182,
   "metadata": {},
   "outputs": [
    {
     "name": "stderr",
     "output_type": "stream",
     "text": [
      "C:\\Users\\Daniel\\AppData\\Local\\Temp/ipykernel_6056/4255427130.py:2: SettingWithCopyWarning: \n",
      "A value is trying to be set on a copy of a slice from a DataFrame.\n",
      "Try using .loc[row_indexer,col_indexer] = value instead\n",
      "\n",
      "See the caveats in the documentation: https://pandas.pydata.org/pandas-docs/stable/user_guide/indexing.html#returning-a-view-versus-a-copy\n",
      "  X[\"Category\"] = label_encoder_category.fit_transform(X[\"Category\"])\n",
      "C:\\Users\\Daniel\\AppData\\Local\\Temp/ipykernel_6056/4255427130.py:5: SettingWithCopyWarning: \n",
      "A value is trying to be set on a copy of a slice from a DataFrame.\n",
      "Try using .loc[row_indexer,col_indexer] = value instead\n",
      "\n",
      "See the caveats in the documentation: https://pandas.pydata.org/pandas-docs/stable/user_guide/indexing.html#returning-a-view-versus-a-copy\n",
      "  X[\"Condition\"] = label_encoder_category.fit_transform(X[\"Condition\"])\n",
      "C:\\Users\\Daniel\\AppData\\Local\\Temp/ipykernel_6056/4255427130.py:8: SettingWithCopyWarning: \n",
      "A value is trying to be set on a copy of a slice from a DataFrame.\n",
      "Try using .loc[row_indexer,col_indexer] = value instead\n",
      "\n",
      "See the caveats in the documentation: https://pandas.pydata.org/pandas-docs/stable/user_guide/indexing.html#returning-a-view-versus-a-copy\n",
      "  X[\"Item_State\"] = label_encoder_state.fit_transform(X[\"Item_State\"])\n",
      "C:\\Users\\Daniel\\AppData\\Local\\Temp/ipykernel_6056/4255427130.py:11: SettingWithCopyWarning: \n",
      "A value is trying to be set on a copy of a slice from a DataFrame.\n",
      "Try using .loc[row_indexer,col_indexer] = value instead\n",
      "\n",
      "See the caveats in the documentation: https://pandas.pydata.org/pandas-docs/stable/user_guide/indexing.html#returning-a-view-versus-a-copy\n",
      "  X[\"Repaired\"] = label_encoder_repaired.fit_transform(X[\"Repaired\"])\n",
      "C:\\Users\\Daniel\\AppData\\Local\\Temp/ipykernel_6056/4255427130.py:14: SettingWithCopyWarning: \n",
      "A value is trying to be set on a copy of a slice from a DataFrame.\n",
      "Try using .loc[row_indexer,col_indexer] = value instead\n",
      "\n",
      "See the caveats in the documentation: https://pandas.pydata.org/pandas-docs/stable/user_guide/indexing.html#returning-a-view-versus-a-copy\n",
      "  X_all[\"Category\"] = label_encoder_category_all.fit_transform(X_all[\"Category\"])\n",
      "C:\\Users\\Daniel\\AppData\\Local\\Temp/ipykernel_6056/4255427130.py:17: SettingWithCopyWarning: \n",
      "A value is trying to be set on a copy of a slice from a DataFrame.\n",
      "Try using .loc[row_indexer,col_indexer] = value instead\n",
      "\n",
      "See the caveats in the documentation: https://pandas.pydata.org/pandas-docs/stable/user_guide/indexing.html#returning-a-view-versus-a-copy\n",
      "  X_all[\"Condition\"] = label_encoder_condition_all.fit_transform(X_all[\"Condition\"])\n",
      "C:\\Users\\Daniel\\AppData\\Local\\Temp/ipykernel_6056/4255427130.py:20: SettingWithCopyWarning: \n",
      "A value is trying to be set on a copy of a slice from a DataFrame.\n",
      "Try using .loc[row_indexer,col_indexer] = value instead\n",
      "\n",
      "See the caveats in the documentation: https://pandas.pydata.org/pandas-docs/stable/user_guide/indexing.html#returning-a-view-versus-a-copy\n",
      "  X_all[\"Item_State\"] = label_encoder_state_all.fit_transform(X_all[\"Item_State\"])\n",
      "C:\\Users\\Daniel\\AppData\\Local\\Temp/ipykernel_6056/4255427130.py:23: SettingWithCopyWarning: \n",
      "A value is trying to be set on a copy of a slice from a DataFrame.\n",
      "Try using .loc[row_indexer,col_indexer] = value instead\n",
      "\n",
      "See the caveats in the documentation: https://pandas.pydata.org/pandas-docs/stable/user_guide/indexing.html#returning-a-view-versus-a-copy\n",
      "  X_all[\"Repaired\"] = label_encoder_repaired_all.fit_transform(X_all[\"Repaired\"])\n"
     ]
    }
   ],
   "source": [
    "label_encoder_category = preprocessing.LabelEncoder()\n",
    "X[\"Category\"] = label_encoder_category.fit_transform(X[\"Category\"])\n",
    "\n",
    "label_encoder_condition = preprocessing.LabelEncoder()\n",
    "X[\"Condition\"] = label_encoder_category.fit_transform(X[\"Condition\"])\n",
    "\n",
    "label_encoder_state = preprocessing.LabelEncoder()\n",
    "X[\"Item_State\"] = label_encoder_state.fit_transform(X[\"Item_State\"])\n",
    "\n",
    "label_encoder_repaired = preprocessing.LabelEncoder()\n",
    "X[\"Repaired\"] = label_encoder_repaired.fit_transform(X[\"Repaired\"])\n",
    "\n",
    "label_encoder_category_all = preprocessing.LabelEncoder()\n",
    "X_all[\"Category\"] = label_encoder_category_all.fit_transform(X_all[\"Category\"])\n",
    "\n",
    "label_encoder_condition_all  = preprocessing.LabelEncoder()\n",
    "X_all[\"Condition\"] = label_encoder_condition_all.fit_transform(X_all[\"Condition\"])\n",
    "\n",
    "label_encoder_state_all  = preprocessing.LabelEncoder()\n",
    "X_all[\"Item_State\"] = label_encoder_state_all.fit_transform(X_all[\"Item_State\"])\n",
    "\n",
    "label_encoder_repaired_all  = preprocessing.LabelEncoder()\n",
    "X_all[\"Repaired\"] = label_encoder_repaired_all.fit_transform(X_all[\"Repaired\"])"
   ]
  },
  {
   "cell_type": "code",
   "execution_count": 173,
   "metadata": {},
   "outputs": [],
   "source": [
    "X_train, X_test, y_train, y_test = train_test_split(X, y, test_size=0.33, random_state=1)\n",
    "X_all_train, X_all_test, y_all_train, y_all_test = train_test_split(X_all, y_all, test_size=0.33, random_state=1)\n"
   ]
  },
  {
   "cell_type": "markdown",
   "metadata": {},
   "source": [
    "# Model testing"
   ]
  },
  {
   "cell_type": "code",
   "execution_count": 157,
   "metadata": {},
   "outputs": [
    {
     "name": "stdout",
     "output_type": "stream",
     "text": [
      "0.8941797129252167\n"
     ]
    }
   ],
   "source": [
    "# Standard tree with fixed hyperparameters\n",
    "clf_tree = tree.DecisionTreeClassifier(max_depth = 4, min_samples_leaf=20, random_state=1)\n",
    "clf_tree = clf_tree.fit(X_all_train, y_all_train)\n",
    "print(clf_tree.score(X_all_test, y_all_test))"
   ]
  },
  {
   "cell_type": "code",
   "execution_count": 158,
   "metadata": {},
   "outputs": [
    {
     "name": "stdout",
     "output_type": "stream",
     "text": [
      "{'max_depth': 19, 'min_samples_leaf': 30}\n",
      "0.9045489751814874\n",
      "0.9051248672536055\n"
     ]
    },
    {
     "data": {
      "text/plain": [
       "DecisionTreeClassifier(max_depth=19, min_samples_leaf=30, random_state=1)"
      ]
     },
     "execution_count": 158,
     "metadata": {},
     "output_type": "execute_result"
    }
   ],
   "source": [
    "def tuneTreeAndTestWithTestData(X_train, y_train, X_test, y_test):\n",
    "    clf_tree = tree.DecisionTreeClassifier(random_state=1)\n",
    "    param_grid = {'max_depth': [3, 4, 5, 6, 7, 8, 9, 10, 11, 12, 13, 14, 15, 16, 17, 18, 19, 20], 'min_samples_leaf': [10, 20, 30, 40, 50, 60, 70, 80, 90, 100]}\n",
    "    grid_search = GridSearchCV(clf_tree, param_grid, cv=5, scoring='accuracy')\n",
    "    grid_search.fit(X_train, y_train)\n",
    "    print(grid_search.best_params_)\n",
    "    print(grid_search.best_score_)\n",
    "    print(grid_search.score(X_test, y_test))\n",
    "    return grid_search.best_estimator_\n",
    "\n",
    "tuneTreeAndTestWithTestData(X_all_train, y_all_train, X_all_test, y_all_test)"
   ]
  },
  {
   "cell_type": "code",
   "execution_count": 159,
   "metadata": {},
   "outputs": [
    {
     "name": "stdout",
     "output_type": "stream",
     "text": [
      "0.9027953821383303\n"
     ]
    }
   ],
   "source": [
    "# Tuned Tree\n",
    "clf_tuned_tree = tree.DecisionTreeClassifier(max_depth=12, min_samples_leaf=80, random_state=1)\n",
    "clf_tuned_tree = clf_tuned_tree.fit(X_all_train, y_all_train)\n",
    "print(clf_tuned_tree.score(X_all_test, y_all_test))"
   ]
  },
  {
   "cell_type": "code",
   "execution_count": 160,
   "metadata": {},
   "outputs": [
    {
     "name": "stdout",
     "output_type": "stream",
     "text": [
      "0.8296296296296296\n"
     ]
    }
   ],
   "source": [
    "clf_forest = ensemble.RandomForestClassifier(max_depth = 21, min_samples_leaf=20, random_state=1)\n",
    "clf_forest = clf_forest.fit(X_train, y_train)\n",
    "print(clf_forest.score(X_test, y_test))"
   ]
  },
  {
   "cell_type": "code",
   "execution_count": 161,
   "metadata": {},
   "outputs": [
    {
     "name": "stdout",
     "output_type": "stream",
     "text": [
      "0.7661835748792271\n"
     ]
    }
   ],
   "source": [
    "clf_knn = neighbors.KNeighborsClassifier()\n",
    "clf_knn = clf_knn.fit(X_train, y_train)\n",
    "print(clf_knn.score(X_test, y_test))"
   ]
  },
  {
   "cell_type": "code",
   "execution_count": 162,
   "metadata": {},
   "outputs": [
    {
     "name": "stdout",
     "output_type": "stream",
     "text": [
      "0.7473429951690821\n"
     ]
    }
   ],
   "source": [
    "clf_svm = svm.SVC(random_state=1)\n",
    "clf_svm = clf_svm.fit(X_train, y_train)\n",
    "print(clf_svm.score(X_test, y_test))"
   ]
  },
  {
   "cell_type": "code",
   "execution_count": 163,
   "metadata": {},
   "outputs": [
    {
     "name": "stdout",
     "output_type": "stream",
     "text": [
      "0.8984789832482615\n"
     ]
    }
   ],
   "source": [
    "clf_forest_all = ensemble.RandomForestClassifier(max_depth = 21, min_samples_leaf=20, random_state=1)\n",
    "clf_forest_all = clf_forest_all.fit(X_all_train, y_all_train)\n",
    "print(clf_forest_all.score(X_all_test, y_all_test))"
   ]
  },
  {
   "cell_type": "code",
   "execution_count": 164,
   "metadata": {},
   "outputs": [
    {
     "ename": "ValueError",
     "evalue": "y should be a 1d array, got an array of shape (58382, 2) instead.",
     "output_type": "error",
     "traceback": [
      "\u001b[1;31m---------------------------------------------------------------------------\u001b[0m",
      "\u001b[1;31mValueError\u001b[0m                                Traceback (most recent call last)",
      "\u001b[1;32m~\\AppData\\Local\\Temp/ipykernel_6056/2861858860.py\u001b[0m in \u001b[0;36m<module>\u001b[1;34m\u001b[0m\n\u001b[1;32m----> 1\u001b[1;33m \u001b[0mclf_forest_all_auc\u001b[0m \u001b[1;33m=\u001b[0m \u001b[0mmetrics\u001b[0m\u001b[1;33m.\u001b[0m\u001b[0mroc_auc_score\u001b[0m\u001b[1;33m(\u001b[0m\u001b[0my_all_test\u001b[0m\u001b[1;33m,\u001b[0m \u001b[0mclf_forest_all\u001b[0m\u001b[1;33m.\u001b[0m\u001b[0mpredict_proba\u001b[0m\u001b[1;33m(\u001b[0m\u001b[0mX_all_test\u001b[0m\u001b[1;33m)\u001b[0m\u001b[1;33m,\u001b[0m \u001b[0mmulti_class\u001b[0m\u001b[1;33m=\u001b[0m\u001b[1;34m\"ovr\"\u001b[0m\u001b[1;33m)\u001b[0m\u001b[1;33m\u001b[0m\u001b[1;33m\u001b[0m\u001b[0m\n\u001b[0m\u001b[0;32m      2\u001b[0m \u001b[0mclf_forest_auc\u001b[0m \u001b[1;33m=\u001b[0m \u001b[0mmetrics\u001b[0m\u001b[1;33m.\u001b[0m\u001b[0mroc_auc_score\u001b[0m\u001b[1;33m(\u001b[0m\u001b[0my_test\u001b[0m\u001b[1;33m,\u001b[0m \u001b[0mclf_forest\u001b[0m\u001b[1;33m.\u001b[0m\u001b[0mpredict_proba\u001b[0m\u001b[1;33m(\u001b[0m\u001b[0mX_test\u001b[0m\u001b[1;33m)\u001b[0m\u001b[1;33m,\u001b[0m \u001b[0mmulti_class\u001b[0m\u001b[1;33m=\u001b[0m\u001b[1;34m\"ovr\"\u001b[0m\u001b[1;33m)\u001b[0m\u001b[1;33m\u001b[0m\u001b[1;33m\u001b[0m\u001b[0m\n\u001b[0;32m      3\u001b[0m \u001b[1;33m\u001b[0m\u001b[0m\n\u001b[0;32m      4\u001b[0m \u001b[0mprint\u001b[0m\u001b[1;33m(\u001b[0m\u001b[0mclf_forest_all_auc\u001b[0m\u001b[1;33m)\u001b[0m\u001b[1;33m\u001b[0m\u001b[1;33m\u001b[0m\u001b[0m\n\u001b[0;32m      5\u001b[0m \u001b[0mprint\u001b[0m\u001b[1;33m(\u001b[0m\u001b[0mclf_forest_auc\u001b[0m\u001b[1;33m)\u001b[0m\u001b[1;33m\u001b[0m\u001b[1;33m\u001b[0m\u001b[0m\n",
      "\u001b[1;32mc:\\Development\\Anwendungsfelder_Business_Analytics\\.venv\\lib\\site-packages\\sklearn\\utils\\validation.py\u001b[0m in \u001b[0;36minner_f\u001b[1;34m(*args, **kwargs)\u001b[0m\n\u001b[0;32m     61\u001b[0m             \u001b[0mextra_args\u001b[0m \u001b[1;33m=\u001b[0m \u001b[0mlen\u001b[0m\u001b[1;33m(\u001b[0m\u001b[0margs\u001b[0m\u001b[1;33m)\u001b[0m \u001b[1;33m-\u001b[0m \u001b[0mlen\u001b[0m\u001b[1;33m(\u001b[0m\u001b[0mall_args\u001b[0m\u001b[1;33m)\u001b[0m\u001b[1;33m\u001b[0m\u001b[1;33m\u001b[0m\u001b[0m\n\u001b[0;32m     62\u001b[0m             \u001b[1;32mif\u001b[0m \u001b[0mextra_args\u001b[0m \u001b[1;33m<=\u001b[0m \u001b[1;36m0\u001b[0m\u001b[1;33m:\u001b[0m\u001b[1;33m\u001b[0m\u001b[1;33m\u001b[0m\u001b[0m\n\u001b[1;32m---> 63\u001b[1;33m                 \u001b[1;32mreturn\u001b[0m \u001b[0mf\u001b[0m\u001b[1;33m(\u001b[0m\u001b[1;33m*\u001b[0m\u001b[0margs\u001b[0m\u001b[1;33m,\u001b[0m \u001b[1;33m**\u001b[0m\u001b[0mkwargs\u001b[0m\u001b[1;33m)\u001b[0m\u001b[1;33m\u001b[0m\u001b[1;33m\u001b[0m\u001b[0m\n\u001b[0m\u001b[0;32m     64\u001b[0m \u001b[1;33m\u001b[0m\u001b[0m\n\u001b[0;32m     65\u001b[0m             \u001b[1;31m# extra_args > 0\u001b[0m\u001b[1;33m\u001b[0m\u001b[1;33m\u001b[0m\u001b[0m\n",
      "\u001b[1;32mc:\\Development\\Anwendungsfelder_Business_Analytics\\.venv\\lib\\site-packages\\sklearn\\metrics\\_ranking.py\u001b[0m in \u001b[0;36mroc_auc_score\u001b[1;34m(y_true, y_score, average, sample_weight, max_fpr, multi_class, labels)\u001b[0m\n\u001b[0;32m    540\u001b[0m         \u001b[0mlabels\u001b[0m \u001b[1;33m=\u001b[0m \u001b[0mnp\u001b[0m\u001b[1;33m.\u001b[0m\u001b[0munique\u001b[0m\u001b[1;33m(\u001b[0m\u001b[0my_true\u001b[0m\u001b[1;33m)\u001b[0m\u001b[1;33m\u001b[0m\u001b[1;33m\u001b[0m\u001b[0m\n\u001b[0;32m    541\u001b[0m         \u001b[0my_true\u001b[0m \u001b[1;33m=\u001b[0m \u001b[0mlabel_binarize\u001b[0m\u001b[1;33m(\u001b[0m\u001b[0my_true\u001b[0m\u001b[1;33m,\u001b[0m \u001b[0mclasses\u001b[0m\u001b[1;33m=\u001b[0m\u001b[0mlabels\u001b[0m\u001b[1;33m)\u001b[0m\u001b[1;33m[\u001b[0m\u001b[1;33m:\u001b[0m\u001b[1;33m,\u001b[0m \u001b[1;36m0\u001b[0m\u001b[1;33m]\u001b[0m\u001b[1;33m\u001b[0m\u001b[1;33m\u001b[0m\u001b[0m\n\u001b[1;32m--> 542\u001b[1;33m         return _average_binary_score(partial(_binary_roc_auc_score,\n\u001b[0m\u001b[0;32m    543\u001b[0m                                              max_fpr=max_fpr),\n\u001b[0;32m    544\u001b[0m                                      \u001b[0my_true\u001b[0m\u001b[1;33m,\u001b[0m \u001b[0my_score\u001b[0m\u001b[1;33m,\u001b[0m \u001b[0maverage\u001b[0m\u001b[1;33m,\u001b[0m\u001b[1;33m\u001b[0m\u001b[1;33m\u001b[0m\u001b[0m\n",
      "\u001b[1;32mc:\\Development\\Anwendungsfelder_Business_Analytics\\.venv\\lib\\site-packages\\sklearn\\metrics\\_base.py\u001b[0m in \u001b[0;36m_average_binary_score\u001b[1;34m(binary_metric, y_true, y_score, average, sample_weight)\u001b[0m\n\u001b[0;32m     75\u001b[0m \u001b[1;33m\u001b[0m\u001b[0m\n\u001b[0;32m     76\u001b[0m     \u001b[1;32mif\u001b[0m \u001b[0my_type\u001b[0m \u001b[1;33m==\u001b[0m \u001b[1;34m\"binary\"\u001b[0m\u001b[1;33m:\u001b[0m\u001b[1;33m\u001b[0m\u001b[1;33m\u001b[0m\u001b[0m\n\u001b[1;32m---> 77\u001b[1;33m         \u001b[1;32mreturn\u001b[0m \u001b[0mbinary_metric\u001b[0m\u001b[1;33m(\u001b[0m\u001b[0my_true\u001b[0m\u001b[1;33m,\u001b[0m \u001b[0my_score\u001b[0m\u001b[1;33m,\u001b[0m \u001b[0msample_weight\u001b[0m\u001b[1;33m=\u001b[0m\u001b[0msample_weight\u001b[0m\u001b[1;33m)\u001b[0m\u001b[1;33m\u001b[0m\u001b[1;33m\u001b[0m\u001b[0m\n\u001b[0m\u001b[0;32m     78\u001b[0m \u001b[1;33m\u001b[0m\u001b[0m\n\u001b[0;32m     79\u001b[0m     \u001b[0mcheck_consistent_length\u001b[0m\u001b[1;33m(\u001b[0m\u001b[0my_true\u001b[0m\u001b[1;33m,\u001b[0m \u001b[0my_score\u001b[0m\u001b[1;33m,\u001b[0m \u001b[0msample_weight\u001b[0m\u001b[1;33m)\u001b[0m\u001b[1;33m\u001b[0m\u001b[1;33m\u001b[0m\u001b[0m\n",
      "\u001b[1;32mc:\\Development\\Anwendungsfelder_Business_Analytics\\.venv\\lib\\site-packages\\sklearn\\metrics\\_ranking.py\u001b[0m in \u001b[0;36m_binary_roc_auc_score\u001b[1;34m(y_true, y_score, sample_weight, max_fpr)\u001b[0m\n\u001b[0;32m    328\u001b[0m                          \"is not defined in that case.\")\n\u001b[0;32m    329\u001b[0m \u001b[1;33m\u001b[0m\u001b[0m\n\u001b[1;32m--> 330\u001b[1;33m     fpr, tpr, _ = roc_curve(y_true, y_score,\n\u001b[0m\u001b[0;32m    331\u001b[0m                             sample_weight=sample_weight)\n\u001b[0;32m    332\u001b[0m     \u001b[1;32mif\u001b[0m \u001b[0mmax_fpr\u001b[0m \u001b[1;32mis\u001b[0m \u001b[1;32mNone\u001b[0m \u001b[1;32mor\u001b[0m \u001b[0mmax_fpr\u001b[0m \u001b[1;33m==\u001b[0m \u001b[1;36m1\u001b[0m\u001b[1;33m:\u001b[0m\u001b[1;33m\u001b[0m\u001b[1;33m\u001b[0m\u001b[0m\n",
      "\u001b[1;32mc:\\Development\\Anwendungsfelder_Business_Analytics\\.venv\\lib\\site-packages\\sklearn\\utils\\validation.py\u001b[0m in \u001b[0;36minner_f\u001b[1;34m(*args, **kwargs)\u001b[0m\n\u001b[0;32m     61\u001b[0m             \u001b[0mextra_args\u001b[0m \u001b[1;33m=\u001b[0m \u001b[0mlen\u001b[0m\u001b[1;33m(\u001b[0m\u001b[0margs\u001b[0m\u001b[1;33m)\u001b[0m \u001b[1;33m-\u001b[0m \u001b[0mlen\u001b[0m\u001b[1;33m(\u001b[0m\u001b[0mall_args\u001b[0m\u001b[1;33m)\u001b[0m\u001b[1;33m\u001b[0m\u001b[1;33m\u001b[0m\u001b[0m\n\u001b[0;32m     62\u001b[0m             \u001b[1;32mif\u001b[0m \u001b[0mextra_args\u001b[0m \u001b[1;33m<=\u001b[0m \u001b[1;36m0\u001b[0m\u001b[1;33m:\u001b[0m\u001b[1;33m\u001b[0m\u001b[1;33m\u001b[0m\u001b[0m\n\u001b[1;32m---> 63\u001b[1;33m                 \u001b[1;32mreturn\u001b[0m \u001b[0mf\u001b[0m\u001b[1;33m(\u001b[0m\u001b[1;33m*\u001b[0m\u001b[0margs\u001b[0m\u001b[1;33m,\u001b[0m \u001b[1;33m**\u001b[0m\u001b[0mkwargs\u001b[0m\u001b[1;33m)\u001b[0m\u001b[1;33m\u001b[0m\u001b[1;33m\u001b[0m\u001b[0m\n\u001b[0m\u001b[0;32m     64\u001b[0m \u001b[1;33m\u001b[0m\u001b[0m\n\u001b[0;32m     65\u001b[0m             \u001b[1;31m# extra_args > 0\u001b[0m\u001b[1;33m\u001b[0m\u001b[1;33m\u001b[0m\u001b[0m\n",
      "\u001b[1;32mc:\\Development\\Anwendungsfelder_Business_Analytics\\.venv\\lib\\site-packages\\sklearn\\metrics\\_ranking.py\u001b[0m in \u001b[0;36mroc_curve\u001b[1;34m(y_true, y_score, pos_label, sample_weight, drop_intermediate)\u001b[0m\n\u001b[0;32m    911\u001b[0m \u001b[1;33m\u001b[0m\u001b[0m\n\u001b[0;32m    912\u001b[0m     \"\"\"\n\u001b[1;32m--> 913\u001b[1;33m     fps, tps, thresholds = _binary_clf_curve(\n\u001b[0m\u001b[0;32m    914\u001b[0m         y_true, y_score, pos_label=pos_label, sample_weight=sample_weight)\n\u001b[0;32m    915\u001b[0m \u001b[1;33m\u001b[0m\u001b[0m\n",
      "\u001b[1;32mc:\\Development\\Anwendungsfelder_Business_Analytics\\.venv\\lib\\site-packages\\sklearn\\metrics\\_ranking.py\u001b[0m in \u001b[0;36m_binary_clf_curve\u001b[1;34m(y_true, y_score, pos_label, sample_weight)\u001b[0m\n\u001b[0;32m    693\u001b[0m     \u001b[0mcheck_consistent_length\u001b[0m\u001b[1;33m(\u001b[0m\u001b[0my_true\u001b[0m\u001b[1;33m,\u001b[0m \u001b[0my_score\u001b[0m\u001b[1;33m,\u001b[0m \u001b[0msample_weight\u001b[0m\u001b[1;33m)\u001b[0m\u001b[1;33m\u001b[0m\u001b[1;33m\u001b[0m\u001b[0m\n\u001b[0;32m    694\u001b[0m     \u001b[0my_true\u001b[0m \u001b[1;33m=\u001b[0m \u001b[0mcolumn_or_1d\u001b[0m\u001b[1;33m(\u001b[0m\u001b[0my_true\u001b[0m\u001b[1;33m)\u001b[0m\u001b[1;33m\u001b[0m\u001b[1;33m\u001b[0m\u001b[0m\n\u001b[1;32m--> 695\u001b[1;33m     \u001b[0my_score\u001b[0m \u001b[1;33m=\u001b[0m \u001b[0mcolumn_or_1d\u001b[0m\u001b[1;33m(\u001b[0m\u001b[0my_score\u001b[0m\u001b[1;33m)\u001b[0m\u001b[1;33m\u001b[0m\u001b[1;33m\u001b[0m\u001b[0m\n\u001b[0m\u001b[0;32m    696\u001b[0m     \u001b[0massert_all_finite\u001b[0m\u001b[1;33m(\u001b[0m\u001b[0my_true\u001b[0m\u001b[1;33m)\u001b[0m\u001b[1;33m\u001b[0m\u001b[1;33m\u001b[0m\u001b[0m\n\u001b[0;32m    697\u001b[0m     \u001b[0massert_all_finite\u001b[0m\u001b[1;33m(\u001b[0m\u001b[0my_score\u001b[0m\u001b[1;33m)\u001b[0m\u001b[1;33m\u001b[0m\u001b[1;33m\u001b[0m\u001b[0m\n",
      "\u001b[1;32mc:\\Development\\Anwendungsfelder_Business_Analytics\\.venv\\lib\\site-packages\\sklearn\\utils\\validation.py\u001b[0m in \u001b[0;36minner_f\u001b[1;34m(*args, **kwargs)\u001b[0m\n\u001b[0;32m     61\u001b[0m             \u001b[0mextra_args\u001b[0m \u001b[1;33m=\u001b[0m \u001b[0mlen\u001b[0m\u001b[1;33m(\u001b[0m\u001b[0margs\u001b[0m\u001b[1;33m)\u001b[0m \u001b[1;33m-\u001b[0m \u001b[0mlen\u001b[0m\u001b[1;33m(\u001b[0m\u001b[0mall_args\u001b[0m\u001b[1;33m)\u001b[0m\u001b[1;33m\u001b[0m\u001b[1;33m\u001b[0m\u001b[0m\n\u001b[0;32m     62\u001b[0m             \u001b[1;32mif\u001b[0m \u001b[0mextra_args\u001b[0m \u001b[1;33m<=\u001b[0m \u001b[1;36m0\u001b[0m\u001b[1;33m:\u001b[0m\u001b[1;33m\u001b[0m\u001b[1;33m\u001b[0m\u001b[0m\n\u001b[1;32m---> 63\u001b[1;33m                 \u001b[1;32mreturn\u001b[0m \u001b[0mf\u001b[0m\u001b[1;33m(\u001b[0m\u001b[1;33m*\u001b[0m\u001b[0margs\u001b[0m\u001b[1;33m,\u001b[0m \u001b[1;33m**\u001b[0m\u001b[0mkwargs\u001b[0m\u001b[1;33m)\u001b[0m\u001b[1;33m\u001b[0m\u001b[1;33m\u001b[0m\u001b[0m\n\u001b[0m\u001b[0;32m     64\u001b[0m \u001b[1;33m\u001b[0m\u001b[0m\n\u001b[0;32m     65\u001b[0m             \u001b[1;31m# extra_args > 0\u001b[0m\u001b[1;33m\u001b[0m\u001b[1;33m\u001b[0m\u001b[0m\n",
      "\u001b[1;32mc:\\Development\\Anwendungsfelder_Business_Analytics\\.venv\\lib\\site-packages\\sklearn\\utils\\validation.py\u001b[0m in \u001b[0;36mcolumn_or_1d\u001b[1;34m(y, warn)\u001b[0m\n\u001b[0;32m    919\u001b[0m         \u001b[1;32mreturn\u001b[0m \u001b[0mnp\u001b[0m\u001b[1;33m.\u001b[0m\u001b[0mravel\u001b[0m\u001b[1;33m(\u001b[0m\u001b[0my\u001b[0m\u001b[1;33m)\u001b[0m\u001b[1;33m\u001b[0m\u001b[1;33m\u001b[0m\u001b[0m\n\u001b[0;32m    920\u001b[0m \u001b[1;33m\u001b[0m\u001b[0m\n\u001b[1;32m--> 921\u001b[1;33m     raise ValueError(\n\u001b[0m\u001b[0;32m    922\u001b[0m         \u001b[1;34m\"y should be a 1d array, \"\u001b[0m\u001b[1;33m\u001b[0m\u001b[1;33m\u001b[0m\u001b[0m\n\u001b[0;32m    923\u001b[0m         \"got an array of shape {} instead.\".format(shape))\n",
      "\u001b[1;31mValueError\u001b[0m: y should be a 1d array, got an array of shape (58382, 2) instead."
     ]
    }
   ],
   "source": [
    "clf_forest_all_auc = metrics.roc_auc_score(y_all_test, clf_forest_all.predict_proba(X_all_test), multi_class=\"ovr\")\n",
    "clf_forest_auc = metrics.roc_auc_score(y_test, clf_forest.predict_proba(X_test), multi_class=\"ovr\")\n",
    "\n",
    "print(clf_forest_all_auc)\n",
    "print(clf_forest_auc)"
   ]
  },
  {
   "cell_type": "markdown",
   "metadata": {},
   "source": [
    "# Export models"
   ]
  },
  {
   "cell_type": "code",
   "execution_count": null,
   "metadata": {},
   "outputs": [],
   "source": [
    "def exportTree(clf, feature_names, fname):\n",
    "    class_names=clf.classes_\n",
    "    fig = plt.figure(figsize=(60,50))\n",
    "    _ = tree.plot_tree(clf, feature_names=feature_names, class_names=class_names, filled=True)\n",
    "    fig.savefig(fname)"
   ]
  },
  {
   "cell_type": "code",
   "execution_count": null,
   "metadata": {},
   "outputs": [],
   "source": [
    "dotfile = open(\"tree.dot\", 'w')\n",
    "tree.export_graphviz(clf_tuned_tree, out_file=dotfile, feature_names=X_all_train.columns, class_names=clf_tuned_tree.classes_, filled=True, rounded=True)\n",
    "dotfile.close()"
   ]
  },
  {
   "cell_type": "code",
   "execution_count": 165,
   "metadata": {},
   "outputs": [
    {
     "data": {
      "text/plain": [
       "0.1228177786165896"
      ]
     },
     "execution_count": 165,
     "metadata": {},
     "output_type": "execute_result"
    }
   ],
   "source": [
    "# Predict a single sample from a dataframe\n",
    "def predictProbabilityFromOneSampleOfDataframe(model, X, loc):\n",
    "    prediction =  model.predict_proba(X.iloc[loc].values.reshape(1,-1))\n",
    "    return prediction[0][0]\n",
    "\n",
    "predictProbabilityFromOneSampleOfDataframe(clf_tuned_tree, X_test, 1)"
   ]
  },
  {
   "cell_type": "code",
   "execution_count": 175,
   "metadata": {},
   "outputs": [
    {
     "ename": "IndexError",
     "evalue": "single positional indexer is out-of-bounds",
     "output_type": "error",
     "traceback": [
      "\u001b[1;31m---------------------------------------------------------------------------\u001b[0m",
      "\u001b[1;31mIndexError\u001b[0m                                Traceback (most recent call last)",
      "\u001b[1;32m~\\AppData\\Local\\Temp/ipykernel_6056/1177581911.py\u001b[0m in \u001b[0;36m<module>\u001b[1;34m\u001b[0m\n\u001b[1;32m----> 1\u001b[1;33m \u001b[0mprint\u001b[0m\u001b[1;33m(\u001b[0m\u001b[0mX_all_test\u001b[0m\u001b[1;33m.\u001b[0m\u001b[0miloc\u001b[0m\u001b[1;33m[\u001b[0m\u001b[1;36m177962\u001b[0m\u001b[1;33m]\u001b[0m\u001b[1;33m)\u001b[0m\u001b[1;33m\u001b[0m\u001b[1;33m\u001b[0m\u001b[0m\n\u001b[0m",
      "\u001b[1;32mc:\\Development\\Anwendungsfelder_Business_Analytics\\.venv\\lib\\site-packages\\pandas\\core\\indexing.py\u001b[0m in \u001b[0;36m__getitem__\u001b[1;34m(self, key)\u001b[0m\n\u001b[0;32m    929\u001b[0m \u001b[1;33m\u001b[0m\u001b[0m\n\u001b[0;32m    930\u001b[0m             \u001b[0mmaybe_callable\u001b[0m \u001b[1;33m=\u001b[0m \u001b[0mcom\u001b[0m\u001b[1;33m.\u001b[0m\u001b[0mapply_if_callable\u001b[0m\u001b[1;33m(\u001b[0m\u001b[0mkey\u001b[0m\u001b[1;33m,\u001b[0m \u001b[0mself\u001b[0m\u001b[1;33m.\u001b[0m\u001b[0mobj\u001b[0m\u001b[1;33m)\u001b[0m\u001b[1;33m\u001b[0m\u001b[1;33m\u001b[0m\u001b[0m\n\u001b[1;32m--> 931\u001b[1;33m             \u001b[1;32mreturn\u001b[0m \u001b[0mself\u001b[0m\u001b[1;33m.\u001b[0m\u001b[0m_getitem_axis\u001b[0m\u001b[1;33m(\u001b[0m\u001b[0mmaybe_callable\u001b[0m\u001b[1;33m,\u001b[0m \u001b[0maxis\u001b[0m\u001b[1;33m=\u001b[0m\u001b[0maxis\u001b[0m\u001b[1;33m)\u001b[0m\u001b[1;33m\u001b[0m\u001b[1;33m\u001b[0m\u001b[0m\n\u001b[0m\u001b[0;32m    932\u001b[0m \u001b[1;33m\u001b[0m\u001b[0m\n\u001b[0;32m    933\u001b[0m     \u001b[1;32mdef\u001b[0m \u001b[0m_is_scalar_access\u001b[0m\u001b[1;33m(\u001b[0m\u001b[0mself\u001b[0m\u001b[1;33m,\u001b[0m \u001b[0mkey\u001b[0m\u001b[1;33m:\u001b[0m \u001b[0mtuple\u001b[0m\u001b[1;33m)\u001b[0m\u001b[1;33m:\u001b[0m\u001b[1;33m\u001b[0m\u001b[1;33m\u001b[0m\u001b[0m\n",
      "\u001b[1;32mc:\\Development\\Anwendungsfelder_Business_Analytics\\.venv\\lib\\site-packages\\pandas\\core\\indexing.py\u001b[0m in \u001b[0;36m_getitem_axis\u001b[1;34m(self, key, axis)\u001b[0m\n\u001b[0;32m   1564\u001b[0m \u001b[1;33m\u001b[0m\u001b[0m\n\u001b[0;32m   1565\u001b[0m             \u001b[1;31m# validate the location\u001b[0m\u001b[1;33m\u001b[0m\u001b[1;33m\u001b[0m\u001b[0m\n\u001b[1;32m-> 1566\u001b[1;33m             \u001b[0mself\u001b[0m\u001b[1;33m.\u001b[0m\u001b[0m_validate_integer\u001b[0m\u001b[1;33m(\u001b[0m\u001b[0mkey\u001b[0m\u001b[1;33m,\u001b[0m \u001b[0maxis\u001b[0m\u001b[1;33m)\u001b[0m\u001b[1;33m\u001b[0m\u001b[1;33m\u001b[0m\u001b[0m\n\u001b[0m\u001b[0;32m   1567\u001b[0m \u001b[1;33m\u001b[0m\u001b[0m\n\u001b[0;32m   1568\u001b[0m             \u001b[1;32mreturn\u001b[0m \u001b[0mself\u001b[0m\u001b[1;33m.\u001b[0m\u001b[0mobj\u001b[0m\u001b[1;33m.\u001b[0m\u001b[0m_ixs\u001b[0m\u001b[1;33m(\u001b[0m\u001b[0mkey\u001b[0m\u001b[1;33m,\u001b[0m \u001b[0maxis\u001b[0m\u001b[1;33m=\u001b[0m\u001b[0maxis\u001b[0m\u001b[1;33m)\u001b[0m\u001b[1;33m\u001b[0m\u001b[1;33m\u001b[0m\u001b[0m\n",
      "\u001b[1;32mc:\\Development\\Anwendungsfelder_Business_Analytics\\.venv\\lib\\site-packages\\pandas\\core\\indexing.py\u001b[0m in \u001b[0;36m_validate_integer\u001b[1;34m(self, key, axis)\u001b[0m\n\u001b[0;32m   1498\u001b[0m         \u001b[0mlen_axis\u001b[0m \u001b[1;33m=\u001b[0m \u001b[0mlen\u001b[0m\u001b[1;33m(\u001b[0m\u001b[0mself\u001b[0m\u001b[1;33m.\u001b[0m\u001b[0mobj\u001b[0m\u001b[1;33m.\u001b[0m\u001b[0m_get_axis\u001b[0m\u001b[1;33m(\u001b[0m\u001b[0maxis\u001b[0m\u001b[1;33m)\u001b[0m\u001b[1;33m)\u001b[0m\u001b[1;33m\u001b[0m\u001b[1;33m\u001b[0m\u001b[0m\n\u001b[0;32m   1499\u001b[0m         \u001b[1;32mif\u001b[0m \u001b[0mkey\u001b[0m \u001b[1;33m>=\u001b[0m \u001b[0mlen_axis\u001b[0m \u001b[1;32mor\u001b[0m \u001b[0mkey\u001b[0m \u001b[1;33m<\u001b[0m \u001b[1;33m-\u001b[0m\u001b[0mlen_axis\u001b[0m\u001b[1;33m:\u001b[0m\u001b[1;33m\u001b[0m\u001b[1;33m\u001b[0m\u001b[0m\n\u001b[1;32m-> 1500\u001b[1;33m             \u001b[1;32mraise\u001b[0m \u001b[0mIndexError\u001b[0m\u001b[1;33m(\u001b[0m\u001b[1;34m\"single positional indexer is out-of-bounds\"\u001b[0m\u001b[1;33m)\u001b[0m\u001b[1;33m\u001b[0m\u001b[1;33m\u001b[0m\u001b[0m\n\u001b[0m\u001b[0;32m   1501\u001b[0m \u001b[1;33m\u001b[0m\u001b[0m\n\u001b[0;32m   1502\u001b[0m     \u001b[1;31m# -------------------------------------------------------------------\u001b[0m\u001b[1;33m\u001b[0m\u001b[1;33m\u001b[0m\u001b[0m\n",
      "\u001b[1;31mIndexError\u001b[0m: single positional indexer is out-of-bounds"
     ]
    }
   ],
   "source": [
    "print(X_all_test.iloc[177962])"
   ]
  },
  {
   "cell_type": "code",
   "execution_count": 185,
   "metadata": {},
   "outputs": [],
   "source": [
    "# Predict a single sample from a dataframe\n",
    "def predictProbabilityFromOneSampleOfOriginalDataframe(model, X, loc):\n",
    "    X = X[[\"verkaufspreis\", \"User_Id\", \"Category\", \"Condition\", \"Item_State\", \"Accessory_Complete\", \"OVP\", \"Repaired\", \"Seal_Sticker_Damaged\"]]\n",
    "    X[\"verkaufspreis\"] = np.sqrt(X[\"verkaufspreis\"]**2)\n",
    "    \n",
    "    label_encoder_category_all = preprocessing.LabelEncoder()\n",
    "    X[\"Category\"] = label_encoder_category_all.fit_transform(X[\"Category\"])\n",
    "\n",
    "    label_encoder_condition_all  = preprocessing.LabelEncoder()\n",
    "    X[\"Condition\"] = label_encoder_condition_all.fit_transform(X[\"Condition\"])\n",
    "\n",
    "    label_encoder_state_all  = preprocessing.LabelEncoder()\n",
    "    X[\"Item_State\"] = label_encoder_state_all.fit_transform(X[\"Item_State\"])\n",
    "\n",
    "    label_encoder_repaired_all  = preprocessing.LabelEncoder()\n",
    "    X[\"Repaired\"] = label_encoder_repaired_all.fit_transform(X[\"Repaired\"])\n",
    "    \n",
    "    prediction =  model.predict_proba(X.iloc[loc].values.reshape(1,-1))\n",
    "    return prediction[0][0]"
   ]
  },
  {
   "cell_type": "code",
   "execution_count": 186,
   "metadata": {},
   "outputs": [
    {
     "ename": "TypeError",
     "evalue": "float() argument must be a string or a number, not 'Timestamp'",
     "output_type": "error",
     "traceback": [
      "\u001b[1;31m---------------------------------------------------------------------------\u001b[0m",
      "\u001b[1;31mTypeError\u001b[0m                                 Traceback (most recent call last)",
      "\u001b[1;32m~\\AppData\\Local\\Temp/ipykernel_6056/4073285179.py\u001b[0m in \u001b[0;36m<module>\u001b[1;34m\u001b[0m\n\u001b[1;32m----> 1\u001b[1;33m \u001b[0mpredictProbabilityFromOneSampleOfDataframe\u001b[0m\u001b[1;33m(\u001b[0m\u001b[0mclf_tuned_tree\u001b[0m\u001b[1;33m,\u001b[0m \u001b[0mall_pos\u001b[0m\u001b[1;33m,\u001b[0m \u001b[1;36m133728\u001b[0m\u001b[1;33m)\u001b[0m\u001b[1;33m\u001b[0m\u001b[1;33m\u001b[0m\u001b[0m\n\u001b[0m",
      "\u001b[1;32m~\\AppData\\Local\\Temp/ipykernel_6056/99956065.py\u001b[0m in \u001b[0;36mpredictProbabilityFromOneSampleOfDataframe\u001b[1;34m(model, X, loc)\u001b[0m\n\u001b[0;32m      1\u001b[0m \u001b[1;31m# Predict a single sample from a dataframe\u001b[0m\u001b[1;33m\u001b[0m\u001b[1;33m\u001b[0m\u001b[0m\n\u001b[0;32m      2\u001b[0m \u001b[1;32mdef\u001b[0m \u001b[0mpredictProbabilityFromOneSampleOfDataframe\u001b[0m\u001b[1;33m(\u001b[0m\u001b[0mmodel\u001b[0m\u001b[1;33m,\u001b[0m \u001b[0mX\u001b[0m\u001b[1;33m,\u001b[0m \u001b[0mloc\u001b[0m\u001b[1;33m)\u001b[0m\u001b[1;33m:\u001b[0m\u001b[1;33m\u001b[0m\u001b[1;33m\u001b[0m\u001b[0m\n\u001b[1;32m----> 3\u001b[1;33m     \u001b[0mprediction\u001b[0m \u001b[1;33m=\u001b[0m  \u001b[0mmodel\u001b[0m\u001b[1;33m.\u001b[0m\u001b[0mpredict_proba\u001b[0m\u001b[1;33m(\u001b[0m\u001b[0mX\u001b[0m\u001b[1;33m.\u001b[0m\u001b[0miloc\u001b[0m\u001b[1;33m[\u001b[0m\u001b[0mloc\u001b[0m\u001b[1;33m]\u001b[0m\u001b[1;33m.\u001b[0m\u001b[0mvalues\u001b[0m\u001b[1;33m.\u001b[0m\u001b[0mreshape\u001b[0m\u001b[1;33m(\u001b[0m\u001b[1;36m1\u001b[0m\u001b[1;33m,\u001b[0m\u001b[1;33m-\u001b[0m\u001b[1;36m1\u001b[0m\u001b[1;33m)\u001b[0m\u001b[1;33m)\u001b[0m\u001b[1;33m\u001b[0m\u001b[1;33m\u001b[0m\u001b[0m\n\u001b[0m\u001b[0;32m      4\u001b[0m     \u001b[1;32mreturn\u001b[0m \u001b[0mprediction\u001b[0m\u001b[1;33m[\u001b[0m\u001b[1;36m0\u001b[0m\u001b[1;33m]\u001b[0m\u001b[1;33m[\u001b[0m\u001b[1;36m0\u001b[0m\u001b[1;33m]\u001b[0m\u001b[1;33m\u001b[0m\u001b[1;33m\u001b[0m\u001b[0m\n\u001b[0;32m      5\u001b[0m \u001b[1;33m\u001b[0m\u001b[0m\n",
      "\u001b[1;32mc:\\Development\\Anwendungsfelder_Business_Analytics\\.venv\\lib\\site-packages\\sklearn\\tree\\_classes.py\u001b[0m in \u001b[0;36mpredict_proba\u001b[1;34m(self, X, check_input)\u001b[0m\n\u001b[0;32m    933\u001b[0m         \"\"\"\n\u001b[0;32m    934\u001b[0m         \u001b[0mcheck_is_fitted\u001b[0m\u001b[1;33m(\u001b[0m\u001b[0mself\u001b[0m\u001b[1;33m)\u001b[0m\u001b[1;33m\u001b[0m\u001b[1;33m\u001b[0m\u001b[0m\n\u001b[1;32m--> 935\u001b[1;33m         \u001b[0mX\u001b[0m \u001b[1;33m=\u001b[0m \u001b[0mself\u001b[0m\u001b[1;33m.\u001b[0m\u001b[0m_validate_X_predict\u001b[0m\u001b[1;33m(\u001b[0m\u001b[0mX\u001b[0m\u001b[1;33m,\u001b[0m \u001b[0mcheck_input\u001b[0m\u001b[1;33m)\u001b[0m\u001b[1;33m\u001b[0m\u001b[1;33m\u001b[0m\u001b[0m\n\u001b[0m\u001b[0;32m    936\u001b[0m         \u001b[0mproba\u001b[0m \u001b[1;33m=\u001b[0m \u001b[0mself\u001b[0m\u001b[1;33m.\u001b[0m\u001b[0mtree_\u001b[0m\u001b[1;33m.\u001b[0m\u001b[0mpredict\u001b[0m\u001b[1;33m(\u001b[0m\u001b[0mX\u001b[0m\u001b[1;33m)\u001b[0m\u001b[1;33m\u001b[0m\u001b[1;33m\u001b[0m\u001b[0m\n\u001b[0;32m    937\u001b[0m \u001b[1;33m\u001b[0m\u001b[0m\n",
      "\u001b[1;32mc:\\Development\\Anwendungsfelder_Business_Analytics\\.venv\\lib\\site-packages\\sklearn\\tree\\_classes.py\u001b[0m in \u001b[0;36m_validate_X_predict\u001b[1;34m(self, X, check_input)\u001b[0m\n\u001b[0;32m    405\u001b[0m         \u001b[1;34m\"\"\"Validate the training data on predict (probabilities).\"\"\"\u001b[0m\u001b[1;33m\u001b[0m\u001b[1;33m\u001b[0m\u001b[0m\n\u001b[0;32m    406\u001b[0m         \u001b[1;32mif\u001b[0m \u001b[0mcheck_input\u001b[0m\u001b[1;33m:\u001b[0m\u001b[1;33m\u001b[0m\u001b[1;33m\u001b[0m\u001b[0m\n\u001b[1;32m--> 407\u001b[1;33m             X = self._validate_data(X, dtype=DTYPE, accept_sparse=\"csr\",\n\u001b[0m\u001b[0;32m    408\u001b[0m                                     reset=False)\n\u001b[0;32m    409\u001b[0m             if issparse(X) and (X.indices.dtype != np.intc or\n",
      "\u001b[1;32mc:\\Development\\Anwendungsfelder_Business_Analytics\\.venv\\lib\\site-packages\\sklearn\\base.py\u001b[0m in \u001b[0;36m_validate_data\u001b[1;34m(self, X, y, reset, validate_separately, **check_params)\u001b[0m\n\u001b[0;32m    419\u001b[0m             \u001b[0mout\u001b[0m \u001b[1;33m=\u001b[0m \u001b[0mX\u001b[0m\u001b[1;33m\u001b[0m\u001b[1;33m\u001b[0m\u001b[0m\n\u001b[0;32m    420\u001b[0m         \u001b[1;32melif\u001b[0m \u001b[0misinstance\u001b[0m\u001b[1;33m(\u001b[0m\u001b[0my\u001b[0m\u001b[1;33m,\u001b[0m \u001b[0mstr\u001b[0m\u001b[1;33m)\u001b[0m \u001b[1;32mand\u001b[0m \u001b[0my\u001b[0m \u001b[1;33m==\u001b[0m \u001b[1;34m'no_validation'\u001b[0m\u001b[1;33m:\u001b[0m\u001b[1;33m\u001b[0m\u001b[1;33m\u001b[0m\u001b[0m\n\u001b[1;32m--> 421\u001b[1;33m             \u001b[0mX\u001b[0m \u001b[1;33m=\u001b[0m \u001b[0mcheck_array\u001b[0m\u001b[1;33m(\u001b[0m\u001b[0mX\u001b[0m\u001b[1;33m,\u001b[0m \u001b[1;33m**\u001b[0m\u001b[0mcheck_params\u001b[0m\u001b[1;33m)\u001b[0m\u001b[1;33m\u001b[0m\u001b[1;33m\u001b[0m\u001b[0m\n\u001b[0m\u001b[0;32m    422\u001b[0m             \u001b[0mout\u001b[0m \u001b[1;33m=\u001b[0m \u001b[0mX\u001b[0m\u001b[1;33m\u001b[0m\u001b[1;33m\u001b[0m\u001b[0m\n\u001b[0;32m    423\u001b[0m         \u001b[1;32melse\u001b[0m\u001b[1;33m:\u001b[0m\u001b[1;33m\u001b[0m\u001b[1;33m\u001b[0m\u001b[0m\n",
      "\u001b[1;32mc:\\Development\\Anwendungsfelder_Business_Analytics\\.venv\\lib\\site-packages\\sklearn\\utils\\validation.py\u001b[0m in \u001b[0;36minner_f\u001b[1;34m(*args, **kwargs)\u001b[0m\n\u001b[0;32m     61\u001b[0m             \u001b[0mextra_args\u001b[0m \u001b[1;33m=\u001b[0m \u001b[0mlen\u001b[0m\u001b[1;33m(\u001b[0m\u001b[0margs\u001b[0m\u001b[1;33m)\u001b[0m \u001b[1;33m-\u001b[0m \u001b[0mlen\u001b[0m\u001b[1;33m(\u001b[0m\u001b[0mall_args\u001b[0m\u001b[1;33m)\u001b[0m\u001b[1;33m\u001b[0m\u001b[1;33m\u001b[0m\u001b[0m\n\u001b[0;32m     62\u001b[0m             \u001b[1;32mif\u001b[0m \u001b[0mextra_args\u001b[0m \u001b[1;33m<=\u001b[0m \u001b[1;36m0\u001b[0m\u001b[1;33m:\u001b[0m\u001b[1;33m\u001b[0m\u001b[1;33m\u001b[0m\u001b[0m\n\u001b[1;32m---> 63\u001b[1;33m                 \u001b[1;32mreturn\u001b[0m \u001b[0mf\u001b[0m\u001b[1;33m(\u001b[0m\u001b[1;33m*\u001b[0m\u001b[0margs\u001b[0m\u001b[1;33m,\u001b[0m \u001b[1;33m**\u001b[0m\u001b[0mkwargs\u001b[0m\u001b[1;33m)\u001b[0m\u001b[1;33m\u001b[0m\u001b[1;33m\u001b[0m\u001b[0m\n\u001b[0m\u001b[0;32m     64\u001b[0m \u001b[1;33m\u001b[0m\u001b[0m\n\u001b[0;32m     65\u001b[0m             \u001b[1;31m# extra_args > 0\u001b[0m\u001b[1;33m\u001b[0m\u001b[1;33m\u001b[0m\u001b[0m\n",
      "\u001b[1;32mc:\\Development\\Anwendungsfelder_Business_Analytics\\.venv\\lib\\site-packages\\sklearn\\utils\\validation.py\u001b[0m in \u001b[0;36mcheck_array\u001b[1;34m(array, accept_sparse, accept_large_sparse, dtype, order, copy, force_all_finite, ensure_2d, allow_nd, ensure_min_samples, ensure_min_features, estimator)\u001b[0m\n\u001b[0;32m    671\u001b[0m                     \u001b[0marray\u001b[0m \u001b[1;33m=\u001b[0m \u001b[0marray\u001b[0m\u001b[1;33m.\u001b[0m\u001b[0mastype\u001b[0m\u001b[1;33m(\u001b[0m\u001b[0mdtype\u001b[0m\u001b[1;33m,\u001b[0m \u001b[0mcasting\u001b[0m\u001b[1;33m=\u001b[0m\u001b[1;34m\"unsafe\"\u001b[0m\u001b[1;33m,\u001b[0m \u001b[0mcopy\u001b[0m\u001b[1;33m=\u001b[0m\u001b[1;32mFalse\u001b[0m\u001b[1;33m)\u001b[0m\u001b[1;33m\u001b[0m\u001b[1;33m\u001b[0m\u001b[0m\n\u001b[0;32m    672\u001b[0m                 \u001b[1;32melse\u001b[0m\u001b[1;33m:\u001b[0m\u001b[1;33m\u001b[0m\u001b[1;33m\u001b[0m\u001b[0m\n\u001b[1;32m--> 673\u001b[1;33m                     \u001b[0marray\u001b[0m \u001b[1;33m=\u001b[0m \u001b[0mnp\u001b[0m\u001b[1;33m.\u001b[0m\u001b[0masarray\u001b[0m\u001b[1;33m(\u001b[0m\u001b[0marray\u001b[0m\u001b[1;33m,\u001b[0m \u001b[0morder\u001b[0m\u001b[1;33m=\u001b[0m\u001b[0morder\u001b[0m\u001b[1;33m,\u001b[0m \u001b[0mdtype\u001b[0m\u001b[1;33m=\u001b[0m\u001b[0mdtype\u001b[0m\u001b[1;33m)\u001b[0m\u001b[1;33m\u001b[0m\u001b[1;33m\u001b[0m\u001b[0m\n\u001b[0m\u001b[0;32m    674\u001b[0m             \u001b[1;32mexcept\u001b[0m \u001b[0mComplexWarning\u001b[0m \u001b[1;32mas\u001b[0m \u001b[0mcomplex_warning\u001b[0m\u001b[1;33m:\u001b[0m\u001b[1;33m\u001b[0m\u001b[1;33m\u001b[0m\u001b[0m\n\u001b[0;32m    675\u001b[0m                 raise ValueError(\"Complex data not supported\\n\"\n",
      "\u001b[1;31mTypeError\u001b[0m: float() argument must be a string or a number, not 'Timestamp'"
     ]
    }
   ],
   "source": [
    "predictProbabilityFromOneSampleOfDataframe(clf_tuned_tree, all_pos, 133728)"
   ]
  },
  {
   "cell_type": "code",
   "execution_count": 176,
   "metadata": {},
   "outputs": [
    {
     "name": "stdout",
     "output_type": "stream",
     "text": [
      "Int64Index([133728, 133729, 133730, 133731, 133732, 133733, 133734, 133735,\n",
      "            133736, 133737,\n",
      "            ...\n",
      "            176896, 176897, 176898, 176899, 176900, 176901, 176902, 176903,\n",
      "            176909, 176913],\n",
      "           dtype='int64', length=18726)\n"
     ]
    }
   ],
   "source": [
    "print(all_pos[all_pos[\"Erstattungstyp\"] == \"Erstattung\"].index)"
   ]
  },
  {
   "cell_type": "code",
   "execution_count": null,
   "metadata": {},
   "outputs": [],
   "source": []
  }
 ],
 "metadata": {
  "interpreter": {
   "hash": "3373210a82d3f1d961838cfcb56f0897eacf0729d8aa34e7e0b4afe4895b61f3"
  },
  "kernelspec": {
   "display_name": "Python 3.9.13 ('.venv': venv)",
   "language": "python",
   "name": "python3"
  },
  "language_info": {
   "codemirror_mode": {
    "name": "ipython",
    "version": 3
   },
   "file_extension": ".py",
   "mimetype": "text/x-python",
   "name": "python",
   "nbconvert_exporter": "python",
   "pygments_lexer": "ipython3",
   "version": "3.9.13"
  },
  "orig_nbformat": 4
 },
 "nbformat": 4,
 "nbformat_minor": 2
}
