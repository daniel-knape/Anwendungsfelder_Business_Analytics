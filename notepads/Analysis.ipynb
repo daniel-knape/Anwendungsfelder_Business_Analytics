{
 "cells": [
  {
   "cell_type": "code",
   "execution_count": 35,
   "metadata": {},
   "outputs": [],
   "source": [
    "#import sys\n",
    "#sys.path.append('./data')\n",
    "import os\n",
    "tmp_path = os.getcwd()\n",
    "parent_dir = os.path.abspath(os.path.join(tmp_path, os.pardir))"
   ]
  },
  {
   "cell_type": "code",
   "execution_count": 113,
   "metadata": {},
   "outputs": [],
   "source": [
    "import pandas as pd\n",
    "import seaborn as sn\n",
    "import matplotlib.pyplot as plt\n",
    "from sklearn import tree\n",
    "from sklearn.model_selection import train_test_split\n",
    "from sklearn import preprocessing\n",
    "from sklearn import ensemble\n",
    "from sklearn import neighbors\n",
    "from sklearn import svm"
   ]
  },
  {
   "cell_type": "code",
   "execution_count": 37,
   "metadata": {},
   "outputs": [],
   "source": [
    "df = pd.read_excel(parent_dir+\"\\data\\Returns_Export.xlsx\")"
   ]
  },
  {
   "cell_type": "code",
   "execution_count": 38,
   "metadata": {},
   "outputs": [
    {
     "data": {
      "text/html": [
       "<div>\n",
       "<style scoped>\n",
       "    .dataframe tbody tr th:only-of-type {\n",
       "        vertical-align: middle;\n",
       "    }\n",
       "\n",
       "    .dataframe tbody tr th {\n",
       "        vertical-align: top;\n",
       "    }\n",
       "\n",
       "    .dataframe thead th {\n",
       "        text-align: right;\n",
       "    }\n",
       "</style>\n",
       "<table border=\"1\" class=\"dataframe\">\n",
       "  <thead>\n",
       "    <tr style=\"text-align: right;\">\n",
       "      <th></th>\n",
       "      <th>redatum</th>\n",
       "      <th>artikelbeschreibung</th>\n",
       "      <th>verkaufspreis</th>\n",
       "      <th>platformspecificorderid</th>\n",
       "      <th>VK</th>\n",
       "      <th>Erstattungstyp</th>\n",
       "      <th>Erstattungsart</th>\n",
       "      <th>Artikelpreis inkl Versand</th>\n",
       "      <th>User_Id</th>\n",
       "      <th>Vendor_Id</th>\n",
       "      <th>Asin</th>\n",
       "      <th>Category</th>\n",
       "      <th>client_condition_user_id</th>\n",
       "      <th>Condition</th>\n",
       "      <th>Item_State</th>\n",
       "      <th>Accessory_Complete</th>\n",
       "      <th>OVP</th>\n",
       "      <th>Repaired</th>\n",
       "      <th>Case_Swap</th>\n",
       "      <th>Seal_Sticker_Damaged</th>\n",
       "    </tr>\n",
       "  </thead>\n",
       "  <tbody>\n",
       "    <tr>\n",
       "      <th>0</th>\n",
       "      <td>2021-12-14</td>\n",
       "      <td>Baby Wasserspielzeug Addmos Badespielzeug Spie...</td>\n",
       "      <td>9.99</td>\n",
       "      <td>07-08009-64134</td>\n",
       "      <td>Verkauf</td>\n",
       "      <td>0</td>\n",
       "      <td>0</td>\n",
       "      <td>9.99</td>\n",
       "      <td>265.0</td>\n",
       "      <td>23.0</td>\n",
       "      <td>B083DQH3DY</td>\n",
       "      <td>Toy</td>\n",
       "      <td>265.0</td>\n",
       "      <td>BWare</td>\n",
       "      <td>Used</td>\n",
       "      <td>1.0</td>\n",
       "      <td>3.0</td>\n",
       "      <td>No</td>\n",
       "      <td>False</td>\n",
       "      <td>0.0</td>\n",
       "    </tr>\n",
       "    <tr>\n",
       "      <th>1</th>\n",
       "      <td>2021-05-13</td>\n",
       "      <td>Pokemon Sun &amp; Moon Theme Deck Pack Waldschatte...</td>\n",
       "      <td>9.99</td>\n",
       "      <td>16-07049-22699</td>\n",
       "      <td>Verkauf</td>\n",
       "      <td>0</td>\n",
       "      <td>0</td>\n",
       "      <td>9.99</td>\n",
       "      <td>265.0</td>\n",
       "      <td>23.0</td>\n",
       "      <td>B01MZ6A8YO</td>\n",
       "      <td>Toy</td>\n",
       "      <td>265.0</td>\n",
       "      <td>BWare</td>\n",
       "      <td>Used</td>\n",
       "      <td>1.0</td>\n",
       "      <td>3.0</td>\n",
       "      <td>No</td>\n",
       "      <td>False</td>\n",
       "      <td>0.0</td>\n",
       "    </tr>\n",
       "    <tr>\n",
       "      <th>2</th>\n",
       "      <td>2021-09-20</td>\n",
       "      <td>Spielpuppe Enchantimals GNP16 Schneemann Sharl...</td>\n",
       "      <td>9.99</td>\n",
       "      <td>19-07627-72302</td>\n",
       "      <td>Verkauf</td>\n",
       "      <td>0</td>\n",
       "      <td>0</td>\n",
       "      <td>9.99</td>\n",
       "      <td>265.0</td>\n",
       "      <td>23.0</td>\n",
       "      <td>B084L11FCZ</td>\n",
       "      <td>Toy</td>\n",
       "      <td>265.0</td>\n",
       "      <td>BWare</td>\n",
       "      <td>Used</td>\n",
       "      <td>1.0</td>\n",
       "      <td>3.0</td>\n",
       "      <td>No</td>\n",
       "      <td>False</td>\n",
       "      <td>0.0</td>\n",
       "    </tr>\n",
       "    <tr>\n",
       "      <th>3</th>\n",
       "      <td>2021-04-15</td>\n",
       "      <td>Schlagzeug Colorbaby Spielzeug Kinder Musik In...</td>\n",
       "      <td>9.99</td>\n",
       "      <td>17-06905-72218</td>\n",
       "      <td>Verkauf</td>\n",
       "      <td>0</td>\n",
       "      <td>0</td>\n",
       "      <td>9.99</td>\n",
       "      <td>265.0</td>\n",
       "      <td>23.0</td>\n",
       "      <td>B07X4ZGCPQ</td>\n",
       "      <td>Toy</td>\n",
       "      <td>265.0</td>\n",
       "      <td>BWare</td>\n",
       "      <td>Used</td>\n",
       "      <td>1.0</td>\n",
       "      <td>3.0</td>\n",
       "      <td>No</td>\n",
       "      <td>False</td>\n",
       "      <td>0.0</td>\n",
       "    </tr>\n",
       "    <tr>\n",
       "      <th>4</th>\n",
       "      <td>2021-06-14</td>\n",
       "      <td>Ravensburger tiptoi 00737 Schatzsuche in der B...</td>\n",
       "      <td>9.99</td>\n",
       "      <td>08-07202-18906</td>\n",
       "      <td>Verkauf</td>\n",
       "      <td>0</td>\n",
       "      <td>0</td>\n",
       "      <td>9.99</td>\n",
       "      <td>265.0</td>\n",
       "      <td>23.0</td>\n",
       "      <td>B00V8KE8N6</td>\n",
       "      <td>Toy</td>\n",
       "      <td>265.0</td>\n",
       "      <td>BWare</td>\n",
       "      <td>Used</td>\n",
       "      <td>1.0</td>\n",
       "      <td>3.0</td>\n",
       "      <td>No</td>\n",
       "      <td>False</td>\n",
       "      <td>0.0</td>\n",
       "    </tr>\n",
       "  </tbody>\n",
       "</table>\n",
       "</div>"
      ],
      "text/plain": [
       "     redatum                                artikelbeschreibung  \\\n",
       "0 2021-12-14  Baby Wasserspielzeug Addmos Badespielzeug Spie...   \n",
       "1 2021-05-13  Pokemon Sun & Moon Theme Deck Pack Waldschatte...   \n",
       "2 2021-09-20  Spielpuppe Enchantimals GNP16 Schneemann Sharl...   \n",
       "3 2021-04-15  Schlagzeug Colorbaby Spielzeug Kinder Musik In...   \n",
       "4 2021-06-14  Ravensburger tiptoi 00737 Schatzsuche in der B...   \n",
       "\n",
       "   verkaufspreis platformspecificorderid       VK Erstattungstyp  \\\n",
       "0           9.99          07-08009-64134  Verkauf              0   \n",
       "1           9.99          16-07049-22699  Verkauf              0   \n",
       "2           9.99          19-07627-72302  Verkauf              0   \n",
       "3           9.99          17-06905-72218  Verkauf              0   \n",
       "4           9.99          08-07202-18906  Verkauf              0   \n",
       "\n",
       "  Erstattungsart  Artikelpreis inkl Versand  User_Id  Vendor_Id        Asin  \\\n",
       "0              0                       9.99    265.0       23.0  B083DQH3DY   \n",
       "1              0                       9.99    265.0       23.0  B01MZ6A8YO   \n",
       "2              0                       9.99    265.0       23.0  B084L11FCZ   \n",
       "3              0                       9.99    265.0       23.0  B07X4ZGCPQ   \n",
       "4              0                       9.99    265.0       23.0  B00V8KE8N6   \n",
       "\n",
       "  Category  client_condition_user_id Condition Item_State  Accessory_Complete  \\\n",
       "0      Toy                     265.0     BWare       Used                 1.0   \n",
       "1      Toy                     265.0     BWare       Used                 1.0   \n",
       "2      Toy                     265.0     BWare       Used                 1.0   \n",
       "3      Toy                     265.0     BWare       Used                 1.0   \n",
       "4      Toy                     265.0     BWare       Used                 1.0   \n",
       "\n",
       "   OVP Repaired Case_Swap  Seal_Sticker_Damaged  \n",
       "0  3.0       No     False                   0.0  \n",
       "1  3.0       No     False                   0.0  \n",
       "2  3.0       No     False                   0.0  \n",
       "3  3.0       No     False                   0.0  \n",
       "4  3.0       No     False                   0.0  "
      ]
     },
     "execution_count": 38,
     "metadata": {},
     "output_type": "execute_result"
    }
   ],
   "source": [
    "df.head()"
   ]
  },
  {
   "cell_type": "code",
   "execution_count": 39,
   "metadata": {},
   "outputs": [
    {
     "name": "stdout",
     "output_type": "stream",
     "text": [
      "<class 'pandas.core.frame.DataFrame'>\n",
      "RangeIndex: 183257 entries, 0 to 183256\n",
      "Data columns (total 20 columns):\n",
      " #   Column                     Non-Null Count   Dtype         \n",
      "---  ------                     --------------   -----         \n",
      " 0   redatum                    183257 non-null  datetime64[ns]\n",
      " 1   artikelbeschreibung        183257 non-null  object        \n",
      " 2   verkaufspreis              183257 non-null  float64       \n",
      " 3   platformspecificorderid    183257 non-null  object        \n",
      " 4   VK                         183257 non-null  object        \n",
      " 5   Erstattungstyp             183243 non-null  object        \n",
      " 6   Erstattungsart             183243 non-null  object        \n",
      " 7   Artikelpreis inkl Versand  183257 non-null  float64       \n",
      " 8   User_Id                    178475 non-null  float64       \n",
      " 9   Vendor_Id                  178474 non-null  float64       \n",
      " 10  Asin                       177029 non-null  object        \n",
      " 11  Category                   178475 non-null  object        \n",
      " 12  client_condition_user_id   178465 non-null  float64       \n",
      " 13  Condition                  178465 non-null  object        \n",
      " 14  Item_State                 178465 non-null  object        \n",
      " 15  Accessory_Complete         178465 non-null  float64       \n",
      " 16  OVP                        178465 non-null  float64       \n",
      " 17  Repaired                   178465 non-null  object        \n",
      " 18  Case_Swap                  178465 non-null  object        \n",
      " 19  Seal_Sticker_Damaged       178465 non-null  float64       \n",
      "dtypes: datetime64[ns](1), float64(8), object(11)\n",
      "memory usage: 28.0+ MB\n"
     ]
    }
   ],
   "source": [
    "df.info()"
   ]
  },
  {
   "cell_type": "code",
   "execution_count": 40,
   "metadata": {},
   "outputs": [
    {
     "data": {
      "text/plain": [
       "<bound method NDFrame.describe of           redatum                                artikelbeschreibung  \\\n",
       "0      2021-12-14  Baby Wasserspielzeug Addmos Badespielzeug Spie...   \n",
       "1      2021-05-13  Pokemon Sun & Moon Theme Deck Pack Waldschatte...   \n",
       "2      2021-09-20  Spielpuppe Enchantimals GNP16 Schneemann Sharl...   \n",
       "3      2021-04-15  Schlagzeug Colorbaby Spielzeug Kinder Musik In...   \n",
       "4      2021-06-14  Ravensburger tiptoi 00737 Schatzsuche in der B...   \n",
       "...           ...                                                ...   \n",
       "183252 2021-10-25  Druckerpapier Kopierpapier A4 80g/m² weiß, all...   \n",
       "183253 2021-10-25  Druckerpapier Kopierpapier A4 80g/m² weiß, all...   \n",
       "183254 2021-10-26  Druckerpapier Kopierpapier A4 80g/m² weiß, all...   \n",
       "183255 2021-10-28  Druckerpapier Kopierpapier A4 80g/m² weiß, all...   \n",
       "183256 2021-10-29  Druckerpapier Kopierpapier A4 80g/m² weiß, all...   \n",
       "\n",
       "        verkaufspreis platformspecificorderid       VK Erstattungstyp  \\\n",
       "0                9.99          07-08009-64134  Verkauf              0   \n",
       "1                9.99          16-07049-22699  Verkauf              0   \n",
       "2                9.99          19-07627-72302  Verkauf              0   \n",
       "3                9.99          17-06905-72218  Verkauf              0   \n",
       "4                9.99          08-07202-18906  Verkauf              0   \n",
       "...               ...                     ...      ...            ...   \n",
       "183252          22.99          20-07776-13006  Verkauf              0   \n",
       "183253          22.99          27-07775-42230  Verkauf              0   \n",
       "183254          22.99          24-07794-29768  Verkauf              0   \n",
       "183255          22.99          25-07788-46390  Verkauf              0   \n",
       "183256          22.99          21-07790-53687  Verkauf              0   \n",
       "\n",
       "       Erstattungsart  Artikelpreis inkl Versand  User_Id  Vendor_Id  \\\n",
       "0                   0                       9.99    265.0       23.0   \n",
       "1                   0                       9.99    265.0       23.0   \n",
       "2                   0                       9.99    265.0       23.0   \n",
       "3                   0                       9.99    265.0       23.0   \n",
       "4                   0                       9.99    265.0       23.0   \n",
       "...               ...                        ...      ...        ...   \n",
       "183252              0                      22.99      NaN        NaN   \n",
       "183253              0                      22.99      NaN        NaN   \n",
       "183254              0                      22.99      NaN        NaN   \n",
       "183255              0                      22.99      NaN        NaN   \n",
       "183256              0                      22.99      NaN        NaN   \n",
       "\n",
       "              Asin Category  client_condition_user_id Condition Item_State  \\\n",
       "0       B083DQH3DY      Toy                     265.0     BWare       Used   \n",
       "1       B01MZ6A8YO      Toy                     265.0     BWare       Used   \n",
       "2       B084L11FCZ      Toy                     265.0     BWare       Used   \n",
       "3       B07X4ZGCPQ      Toy                     265.0     BWare       Used   \n",
       "4       B00V8KE8N6      Toy                     265.0     BWare       Used   \n",
       "...            ...      ...                       ...       ...        ...   \n",
       "183252         NaN      NaN                       NaN       NaN        NaN   \n",
       "183253         NaN      NaN                       NaN       NaN        NaN   \n",
       "183254         NaN      NaN                       NaN       NaN        NaN   \n",
       "183255         NaN      NaN                       NaN       NaN        NaN   \n",
       "183256         NaN      NaN                       NaN       NaN        NaN   \n",
       "\n",
       "        Accessory_Complete  OVP Repaired Case_Swap  Seal_Sticker_Damaged  \n",
       "0                      1.0  3.0       No     False                   0.0  \n",
       "1                      1.0  3.0       No     False                   0.0  \n",
       "2                      1.0  3.0       No     False                   0.0  \n",
       "3                      1.0  3.0       No     False                   0.0  \n",
       "4                      1.0  3.0       No     False                   0.0  \n",
       "...                    ...  ...      ...       ...                   ...  \n",
       "183252                 NaN  NaN      NaN       NaN                   NaN  \n",
       "183253                 NaN  NaN      NaN       NaN                   NaN  \n",
       "183254                 NaN  NaN      NaN       NaN                   NaN  \n",
       "183255                 NaN  NaN      NaN       NaN                   NaN  \n",
       "183256                 NaN  NaN      NaN       NaN                   NaN  \n",
       "\n",
       "[183257 rows x 20 columns]>"
      ]
     },
     "execution_count": 40,
     "metadata": {},
     "output_type": "execute_result"
    }
   ],
   "source": [
    "df.describe"
   ]
  },
  {
   "cell_type": "code",
   "execution_count": 41,
   "metadata": {},
   "outputs": [],
   "source": [
    "refunds = df.loc[(df[\"Erstattungsart\"] != 0) & (df[\"Erstattungsart\"] != \"NaN\")]"
   ]
  },
  {
   "cell_type": "code",
   "execution_count": 42,
   "metadata": {},
   "outputs": [
    {
     "data": {
      "text/html": [
       "<div>\n",
       "<style scoped>\n",
       "    .dataframe tbody tr th:only-of-type {\n",
       "        vertical-align: middle;\n",
       "    }\n",
       "\n",
       "    .dataframe tbody tr th {\n",
       "        vertical-align: top;\n",
       "    }\n",
       "\n",
       "    .dataframe thead th {\n",
       "        text-align: right;\n",
       "    }\n",
       "</style>\n",
       "<table border=\"1\" class=\"dataframe\">\n",
       "  <thead>\n",
       "    <tr style=\"text-align: right;\">\n",
       "      <th></th>\n",
       "      <th>redatum</th>\n",
       "      <th>artikelbeschreibung</th>\n",
       "      <th>verkaufspreis</th>\n",
       "      <th>platformspecificorderid</th>\n",
       "      <th>VK</th>\n",
       "      <th>Erstattungstyp</th>\n",
       "      <th>Erstattungsart</th>\n",
       "      <th>Artikelpreis inkl Versand</th>\n",
       "      <th>User_Id</th>\n",
       "      <th>Vendor_Id</th>\n",
       "      <th>Asin</th>\n",
       "      <th>Category</th>\n",
       "      <th>client_condition_user_id</th>\n",
       "      <th>Condition</th>\n",
       "      <th>Item_State</th>\n",
       "      <th>Accessory_Complete</th>\n",
       "      <th>OVP</th>\n",
       "      <th>Repaired</th>\n",
       "      <th>Case_Swap</th>\n",
       "      <th>Seal_Sticker_Damaged</th>\n",
       "    </tr>\n",
       "  </thead>\n",
       "  <tbody>\n",
       "    <tr>\n",
       "      <th>134534</th>\n",
       "      <td>2021-08-25</td>\n",
       "      <td>RockJam E-Gitarren-Set in Standardgröße E-Gita...</td>\n",
       "      <td>35.50</td>\n",
       "      <td>05-07518-23081</td>\n",
       "      <td>Verkauf</td>\n",
       "      <td>NaN</td>\n",
       "      <td>NaN</td>\n",
       "      <td>54.723077</td>\n",
       "      <td>226.0</td>\n",
       "      <td>23.0</td>\n",
       "      <td>B01M66OZ0V</td>\n",
       "      <td>MusicInstruments</td>\n",
       "      <td>226.0</td>\n",
       "      <td>Damage</td>\n",
       "      <td>Used</td>\n",
       "      <td>2.0</td>\n",
       "      <td>3.0</td>\n",
       "      <td>No</td>\n",
       "      <td>False</td>\n",
       "      <td>0.0</td>\n",
       "    </tr>\n",
       "    <tr>\n",
       "      <th>134535</th>\n",
       "      <td>2021-08-25</td>\n",
       "      <td>Akustikgitarre MSA Gitarre Instrument 4/4 Größ...</td>\n",
       "      <td>15.15</td>\n",
       "      <td>05-07518-23081</td>\n",
       "      <td>Verkauf</td>\n",
       "      <td>NaN</td>\n",
       "      <td>NaN</td>\n",
       "      <td>34.373077</td>\n",
       "      <td>314.0</td>\n",
       "      <td>23.0</td>\n",
       "      <td>B01N6C6PJ3</td>\n",
       "      <td>MusicInstruments</td>\n",
       "      <td>314.0</td>\n",
       "      <td>Acceptable</td>\n",
       "      <td>Used</td>\n",
       "      <td>0.0</td>\n",
       "      <td>0.0</td>\n",
       "      <td>No</td>\n",
       "      <td>False</td>\n",
       "      <td>0.0</td>\n",
       "    </tr>\n",
       "    <tr>\n",
       "      <th>134536</th>\n",
       "      <td>2021-08-25</td>\n",
       "      <td>E-Gitarre RockJam Gitarre Saiteninstrument Sun...</td>\n",
       "      <td>53.88</td>\n",
       "      <td>05-07518-23081</td>\n",
       "      <td>Verkauf</td>\n",
       "      <td>NaN</td>\n",
       "      <td>NaN</td>\n",
       "      <td>73.103077</td>\n",
       "      <td>314.0</td>\n",
       "      <td>23.0</td>\n",
       "      <td>B01M6ZH0AW</td>\n",
       "      <td>MusicInstruments</td>\n",
       "      <td>314.0</td>\n",
       "      <td>NonFunctional</td>\n",
       "      <td>Used</td>\n",
       "      <td>1.0</td>\n",
       "      <td>0.0</td>\n",
       "      <td>No</td>\n",
       "      <td>False</td>\n",
       "      <td>0.0</td>\n",
       "    </tr>\n",
       "    <tr>\n",
       "      <th>134537</th>\n",
       "      <td>2021-08-25</td>\n",
       "      <td>Akustikgitarre Gitarre Martin Smith Akustik In...</td>\n",
       "      <td>20.50</td>\n",
       "      <td>05-07518-23081</td>\n",
       "      <td>Verkauf</td>\n",
       "      <td>NaN</td>\n",
       "      <td>NaN</td>\n",
       "      <td>39.723077</td>\n",
       "      <td>314.0</td>\n",
       "      <td>23.0</td>\n",
       "      <td>B00UOUK4IE</td>\n",
       "      <td>MusicInstruments</td>\n",
       "      <td>314.0</td>\n",
       "      <td>Damage</td>\n",
       "      <td>Used</td>\n",
       "      <td>1.0</td>\n",
       "      <td>2.0</td>\n",
       "      <td>No</td>\n",
       "      <td>False</td>\n",
       "      <td>0.0</td>\n",
       "    </tr>\n",
       "    <tr>\n",
       "      <th>134538</th>\n",
       "      <td>2021-06-07</td>\n",
       "      <td>ReNr 441799 ReNr 439035 EGitarre Display4top R...</td>\n",
       "      <td>25.00</td>\n",
       "      <td>05-07133-60124</td>\n",
       "      <td>Verkauf</td>\n",
       "      <td>Teilerstattung (TE)</td>\n",
       "      <td>Defekt</td>\n",
       "      <td>25.000000</td>\n",
       "      <td>314.0</td>\n",
       "      <td>23.0</td>\n",
       "      <td>B0863H39LF</td>\n",
       "      <td>MusicInstruments</td>\n",
       "      <td>314.0</td>\n",
       "      <td>VeryGood</td>\n",
       "      <td>Used</td>\n",
       "      <td>2.0</td>\n",
       "      <td>0.0</td>\n",
       "      <td>No</td>\n",
       "      <td>False</td>\n",
       "      <td>0.0</td>\n",
       "    </tr>\n",
       "  </tbody>\n",
       "</table>\n",
       "</div>"
      ],
      "text/plain": [
       "          redatum                                artikelbeschreibung  \\\n",
       "134534 2021-08-25  RockJam E-Gitarren-Set in Standardgröße E-Gita...   \n",
       "134535 2021-08-25  Akustikgitarre MSA Gitarre Instrument 4/4 Größ...   \n",
       "134536 2021-08-25  E-Gitarre RockJam Gitarre Saiteninstrument Sun...   \n",
       "134537 2021-08-25  Akustikgitarre Gitarre Martin Smith Akustik In...   \n",
       "134538 2021-06-07  ReNr 441799 ReNr 439035 EGitarre Display4top R...   \n",
       "\n",
       "        verkaufspreis platformspecificorderid       VK       Erstattungstyp  \\\n",
       "134534          35.50          05-07518-23081  Verkauf                  NaN   \n",
       "134535          15.15          05-07518-23081  Verkauf                  NaN   \n",
       "134536          53.88          05-07518-23081  Verkauf                  NaN   \n",
       "134537          20.50          05-07518-23081  Verkauf                  NaN   \n",
       "134538          25.00          05-07133-60124  Verkauf  Teilerstattung (TE)   \n",
       "\n",
       "       Erstattungsart  Artikelpreis inkl Versand  User_Id  Vendor_Id  \\\n",
       "134534            NaN                  54.723077    226.0       23.0   \n",
       "134535            NaN                  34.373077    314.0       23.0   \n",
       "134536            NaN                  73.103077    314.0       23.0   \n",
       "134537            NaN                  39.723077    314.0       23.0   \n",
       "134538         Defekt                  25.000000    314.0       23.0   \n",
       "\n",
       "              Asin          Category  client_condition_user_id      Condition  \\\n",
       "134534  B01M66OZ0V  MusicInstruments                     226.0         Damage   \n",
       "134535  B01N6C6PJ3  MusicInstruments                     314.0     Acceptable   \n",
       "134536  B01M6ZH0AW  MusicInstruments                     314.0  NonFunctional   \n",
       "134537  B00UOUK4IE  MusicInstruments                     314.0         Damage   \n",
       "134538  B0863H39LF  MusicInstruments                     314.0       VeryGood   \n",
       "\n",
       "       Item_State  Accessory_Complete  OVP Repaired Case_Swap  \\\n",
       "134534       Used                 2.0  3.0       No     False   \n",
       "134535       Used                 0.0  0.0       No     False   \n",
       "134536       Used                 1.0  0.0       No     False   \n",
       "134537       Used                 1.0  2.0       No     False   \n",
       "134538       Used                 2.0  0.0       No     False   \n",
       "\n",
       "        Seal_Sticker_Damaged  \n",
       "134534                   0.0  \n",
       "134535                   0.0  \n",
       "134536                   0.0  \n",
       "134537                   0.0  \n",
       "134538                   0.0  "
      ]
     },
     "execution_count": 42,
     "metadata": {},
     "output_type": "execute_result"
    }
   ],
   "source": [
    "refunds.head()"
   ]
  },
  {
   "cell_type": "code",
   "execution_count": 66,
   "metadata": {},
   "outputs": [
    {
     "name": "stderr",
     "output_type": "stream",
     "text": [
      "c:\\Development\\Anwendungsfelder_Business_Analytics\\.venv\\lib\\site-packages\\pandas\\util\\_decorators.py:311: SettingWithCopyWarning: \n",
      "A value is trying to be set on a copy of a slice from a DataFrame\n",
      "\n",
      "See the caveats in the documentation: https://pandas.pydata.org/pandas-docs/stable/user_guide/indexing.html#returning-a-view-versus-a-copy\n",
      "  return func(*args, **kwargs)\n"
     ]
    }
   ],
   "source": [
    "refunds.dropna(inplace=True)"
   ]
  },
  {
   "cell_type": "code",
   "execution_count": 67,
   "metadata": {},
   "outputs": [
    {
     "data": {
      "text/html": [
       "<div>\n",
       "<style scoped>\n",
       "    .dataframe tbody tr th:only-of-type {\n",
       "        vertical-align: middle;\n",
       "    }\n",
       "\n",
       "    .dataframe tbody tr th {\n",
       "        vertical-align: top;\n",
       "    }\n",
       "\n",
       "    .dataframe thead th {\n",
       "        text-align: right;\n",
       "    }\n",
       "</style>\n",
       "<table border=\"1\" class=\"dataframe\">\n",
       "  <thead>\n",
       "    <tr style=\"text-align: right;\">\n",
       "      <th></th>\n",
       "      <th>redatum</th>\n",
       "      <th>artikelbeschreibung</th>\n",
       "      <th>verkaufspreis</th>\n",
       "      <th>platformspecificorderid</th>\n",
       "      <th>VK</th>\n",
       "      <th>Erstattungstyp</th>\n",
       "      <th>Erstattungsart</th>\n",
       "      <th>Artikelpreis inkl Versand</th>\n",
       "      <th>User_Id</th>\n",
       "      <th>Vendor_Id</th>\n",
       "      <th>Asin</th>\n",
       "      <th>Category</th>\n",
       "      <th>client_condition_user_id</th>\n",
       "      <th>Condition</th>\n",
       "      <th>Item_State</th>\n",
       "      <th>Accessory_Complete</th>\n",
       "      <th>OVP</th>\n",
       "      <th>Repaired</th>\n",
       "      <th>Case_Swap</th>\n",
       "      <th>Seal_Sticker_Damaged</th>\n",
       "    </tr>\n",
       "  </thead>\n",
       "  <tbody>\n",
       "    <tr>\n",
       "      <th>134538</th>\n",
       "      <td>2021-06-07</td>\n",
       "      <td>ReNr 441799 ReNr 439035 EGitarre Display4top R...</td>\n",
       "      <td>25.0</td>\n",
       "      <td>05-07133-60124</td>\n",
       "      <td>Verkauf</td>\n",
       "      <td>Teilerstattung (TE)</td>\n",
       "      <td>Defekt</td>\n",
       "      <td>25.0</td>\n",
       "      <td>314.0</td>\n",
       "      <td>23.0</td>\n",
       "      <td>B0863H39LF</td>\n",
       "      <td>MusicInstruments</td>\n",
       "      <td>314.0</td>\n",
       "      <td>VeryGood</td>\n",
       "      <td>Used</td>\n",
       "      <td>2.0</td>\n",
       "      <td>0.0</td>\n",
       "      <td>No</td>\n",
       "      <td>False</td>\n",
       "      <td>0.0</td>\n",
       "    </tr>\n",
       "    <tr>\n",
       "      <th>134540</th>\n",
       "      <td>2021-01-12</td>\n",
       "      <td>ReNr 396232 ReNr 390034 Gaming Headset Astro A...</td>\n",
       "      <td>125.9</td>\n",
       "      <td>18-06280-86579</td>\n",
       "      <td>Verkauf</td>\n",
       "      <td>Retoure (RS)</td>\n",
       "      <td>Defekt</td>\n",
       "      <td>125.9</td>\n",
       "      <td>150.0</td>\n",
       "      <td>23.0</td>\n",
       "      <td>B07TTB3SR2</td>\n",
       "      <td>VideoGames</td>\n",
       "      <td>150.0</td>\n",
       "      <td>NonFunctional</td>\n",
       "      <td>Used</td>\n",
       "      <td>1.0</td>\n",
       "      <td>1.0</td>\n",
       "      <td>No</td>\n",
       "      <td>False</td>\n",
       "      <td>0.0</td>\n",
       "    </tr>\n",
       "    <tr>\n",
       "      <th>134547</th>\n",
       "      <td>2022-03-21</td>\n",
       "      <td>ReNr 535089 Sitzbank Stagg PBH-780 BK P V/BK K...</td>\n",
       "      <td>30.0</td>\n",
       "      <td>15-08390-32712</td>\n",
       "      <td>Verkauf</td>\n",
       "      <td>Teilerstattung (TE)</td>\n",
       "      <td>Defekt</td>\n",
       "      <td>30.0</td>\n",
       "      <td>351.0</td>\n",
       "      <td>23.0</td>\n",
       "      <td>B0064UUYYM</td>\n",
       "      <td>MusicInstruments</td>\n",
       "      <td>351.0</td>\n",
       "      <td>LikeNew</td>\n",
       "      <td>Used</td>\n",
       "      <td>1.0</td>\n",
       "      <td>4.0</td>\n",
       "      <td>No</td>\n",
       "      <td>False</td>\n",
       "      <td>0.0</td>\n",
       "    </tr>\n",
       "    <tr>\n",
       "      <th>134550</th>\n",
       "      <td>2022-01-24</td>\n",
       "      <td>ReNr 522075 Controller Turtle Beach Recon Weiß...</td>\n",
       "      <td>0.0</td>\n",
       "      <td>27-08155-81914</td>\n",
       "      <td>Ersatz</td>\n",
       "      <td>Ersatz</td>\n",
       "      <td>Ersatz</td>\n",
       "      <td>0.0</td>\n",
       "      <td>324.0</td>\n",
       "      <td>23.0</td>\n",
       "      <td>B0977KM6S7</td>\n",
       "      <td>VideoGames</td>\n",
       "      <td>324.0</td>\n",
       "      <td>VeryGood</td>\n",
       "      <td>Used</td>\n",
       "      <td>1.0</td>\n",
       "      <td>1.0</td>\n",
       "      <td>No</td>\n",
       "      <td>False</td>\n",
       "      <td>0.0</td>\n",
       "    </tr>\n",
       "    <tr>\n",
       "      <th>134551</th>\n",
       "      <td>2022-03-29</td>\n",
       "      <td>ReNr 537473 Kohlendioxid Tester Innenraum Dete...</td>\n",
       "      <td>0.0</td>\n",
       "      <td>13-08435-16229</td>\n",
       "      <td>Ersatz</td>\n",
       "      <td>Ersatz</td>\n",
       "      <td>Ersatz</td>\n",
       "      <td>0.0</td>\n",
       "      <td>268.0</td>\n",
       "      <td>23.0</td>\n",
       "      <td>B08F2F756X</td>\n",
       "      <td>HomeImprovement</td>\n",
       "      <td>324.0</td>\n",
       "      <td>Damage</td>\n",
       "      <td>Used</td>\n",
       "      <td>1.0</td>\n",
       "      <td>2.0</td>\n",
       "      <td>No</td>\n",
       "      <td>False</td>\n",
       "      <td>0.0</td>\n",
       "    </tr>\n",
       "  </tbody>\n",
       "</table>\n",
       "</div>"
      ],
      "text/plain": [
       "          redatum                                artikelbeschreibung  \\\n",
       "134538 2021-06-07  ReNr 441799 ReNr 439035 EGitarre Display4top R...   \n",
       "134540 2021-01-12  ReNr 396232 ReNr 390034 Gaming Headset Astro A...   \n",
       "134547 2022-03-21  ReNr 535089 Sitzbank Stagg PBH-780 BK P V/BK K...   \n",
       "134550 2022-01-24  ReNr 522075 Controller Turtle Beach Recon Weiß...   \n",
       "134551 2022-03-29  ReNr 537473 Kohlendioxid Tester Innenraum Dete...   \n",
       "\n",
       "        verkaufspreis platformspecificorderid       VK       Erstattungstyp  \\\n",
       "134538           25.0          05-07133-60124  Verkauf  Teilerstattung (TE)   \n",
       "134540          125.9          18-06280-86579  Verkauf         Retoure (RS)   \n",
       "134547           30.0          15-08390-32712  Verkauf  Teilerstattung (TE)   \n",
       "134550            0.0          27-08155-81914   Ersatz               Ersatz   \n",
       "134551            0.0          13-08435-16229   Ersatz               Ersatz   \n",
       "\n",
       "       Erstattungsart  Artikelpreis inkl Versand  User_Id  Vendor_Id  \\\n",
       "134538         Defekt                       25.0    314.0       23.0   \n",
       "134540         Defekt                      125.9    150.0       23.0   \n",
       "134547         Defekt                       30.0    351.0       23.0   \n",
       "134550         Ersatz                        0.0    324.0       23.0   \n",
       "134551         Ersatz                        0.0    268.0       23.0   \n",
       "\n",
       "              Asin          Category  client_condition_user_id      Condition  \\\n",
       "134538  B0863H39LF  MusicInstruments                     314.0       VeryGood   \n",
       "134540  B07TTB3SR2        VideoGames                     150.0  NonFunctional   \n",
       "134547  B0064UUYYM  MusicInstruments                     351.0        LikeNew   \n",
       "134550  B0977KM6S7        VideoGames                     324.0       VeryGood   \n",
       "134551  B08F2F756X   HomeImprovement                     324.0         Damage   \n",
       "\n",
       "       Item_State  Accessory_Complete  OVP Repaired Case_Swap  \\\n",
       "134538       Used                 2.0  0.0       No     False   \n",
       "134540       Used                 1.0  1.0       No     False   \n",
       "134547       Used                 1.0  4.0       No     False   \n",
       "134550       Used                 1.0  1.0       No     False   \n",
       "134551       Used                 1.0  2.0       No     False   \n",
       "\n",
       "        Seal_Sticker_Damaged  \n",
       "134538                   0.0  \n",
       "134540                   0.0  \n",
       "134547                   0.0  \n",
       "134550                   0.0  \n",
       "134551                   0.0  "
      ]
     },
     "execution_count": 67,
     "metadata": {},
     "output_type": "execute_result"
    }
   ],
   "source": [
    "refunds.head()"
   ]
  },
  {
   "cell_type": "code",
   "execution_count": 68,
   "metadata": {},
   "outputs": [
    {
     "data": {
      "image/png": "[encoded data removed]",
      "text/plain": [
       "<Figure size 432x288 with 2 Axes>"
      ]
     },
     "metadata": {
      "needs_background": "light"
     },
     "output_type": "display_data"
    }
   ],
   "source": [
    "corrMatrix = refunds.corr()\n",
    "sn.heatmap(corrMatrix, annot=True)\n",
    "plt.show()"
   ]
  },
  {
   "cell_type": "code",
   "execution_count": 96,
   "metadata": {},
   "outputs": [
    {
     "name": "stdout",
     "output_type": "stream",
     "text": [
      "['Used' 'New']\n"
     ]
    }
   ],
   "source": [
    "print(refunds.Item_State.unique())"
   ]
  },
  {
   "cell_type": "code",
   "execution_count": 97,
   "metadata": {},
   "outputs": [
    {
     "name": "stdout",
     "output_type": "stream",
     "text": [
      "[2. 1. 0.]\n"
     ]
    }
   ],
   "source": [
    "print(refunds.Accessory_Complete.unique())"
   ]
  },
  {
   "cell_type": "code",
   "execution_count": 98,
   "metadata": {},
   "outputs": [
    {
     "name": "stdout",
     "output_type": "stream",
     "text": [
      "[0. 1. 4. 2. 3.]\n"
     ]
    }
   ],
   "source": [
    "print(refunds.OVP.unique())"
   ]
  },
  {
   "cell_type": "code",
   "execution_count": 99,
   "metadata": {},
   "outputs": [
    {
     "name": "stdout",
     "output_type": "stream",
     "text": [
      "['No' 'Yes' 'NotTried' 'ToRepair' 'Tried']\n"
     ]
    }
   ],
   "source": [
    "print(refunds.Repaired.unique())"
   ]
  },
  {
   "cell_type": "code",
   "execution_count": 100,
   "metadata": {},
   "outputs": [
    {
     "name": "stdout",
     "output_type": "stream",
     "text": [
      "[False]\n"
     ]
    }
   ],
   "source": [
    "print(refunds.Case_Swap.unique())"
   ]
  },
  {
   "cell_type": "code",
   "execution_count": 101,
   "metadata": {},
   "outputs": [
    {
     "name": "stdout",
     "output_type": "stream",
     "text": [
      "[0. 1.]\n"
     ]
    }
   ],
   "source": [
    "print(refunds.Seal_Sticker_Damaged.unique())"
   ]
  },
  {
   "cell_type": "markdown",
   "metadata": {},
   "source": [
    "# Preprocessing"
   ]
  },
  {
   "cell_type": "code",
   "execution_count": 128,
   "metadata": {},
   "outputs": [],
   "source": [
    "#X = refunds[[\"verkaufspreis\", \"User_Id\", \"Asin\", \"Category\", \"Condition\", \"Item_State\", \"Accessory_Complete\", \"OVP\", \"Repaired\", \"Seal_Sticker_Damaged\"]]\n",
    "#X = refunds[[\"verkaufspreis\", \"User_Id\", \"Category\", \"Condition\", \"Item_State\", \"Accessory_Complete\", \"OVP\", \"Repaired\", \"Seal_Sticker_Damaged\"]]\n",
    "X = refunds[[\"verkaufspreis\", \"User_Id\", \"Category\", \"Condition\"]]\n",
    "#X = refunds[[\"verkaufspreis\", \"User_Id\", \"Category\", \"Condition\"]]\n",
    "y = refunds[\"Erstattungsart\"]"
   ]
  },
  {
   "cell_type": "code",
   "execution_count": 129,
   "metadata": {},
   "outputs": [
    {
     "name": "stderr",
     "output_type": "stream",
     "text": [
      "C:\\Users\\Daniel\\AppData\\Local\\Temp/ipykernel_9812/3234099188.py:2: SettingWithCopyWarning: \n",
      "A value is trying to be set on a copy of a slice from a DataFrame.\n",
      "Try using .loc[row_indexer,col_indexer] = value instead\n",
      "\n",
      "See the caveats in the documentation: https://pandas.pydata.org/pandas-docs/stable/user_guide/indexing.html#returning-a-view-versus-a-copy\n",
      "  X[\"Category\"] = label_encoder_category.fit_transform(X[\"Category\"])\n",
      "C:\\Users\\Daniel\\AppData\\Local\\Temp/ipykernel_9812/3234099188.py:4: SettingWithCopyWarning: \n",
      "A value is trying to be set on a copy of a slice from a DataFrame.\n",
      "Try using .loc[row_indexer,col_indexer] = value instead\n",
      "\n",
      "See the caveats in the documentation: https://pandas.pydata.org/pandas-docs/stable/user_guide/indexing.html#returning-a-view-versus-a-copy\n",
      "  X[\"Condition\"] = label_encoder_category.fit_transform(X[\"Condition\"])\n"
     ]
    }
   ],
   "source": [
    "label_encoder_category = preprocessing.LabelEncoder()\n",
    "X[\"Category\"] = label_encoder_category.fit_transform(X[\"Category\"])\n",
    "label_encoder_condition = preprocessing.LabelEncoder()\n",
    "X[\"Condition\"] = label_encoder_category.fit_transform(X[\"Condition\"])\n",
    "label_encoder_state = preprocessing.LabelEncoder()\n",
    "#X[\"Item_State\"] = label_encoder_state.fit_transform(X[\"Item_State\"])\n",
    "label_encoder_repaird = preprocessing.LabelEncoder()\n",
    "#X[\"Repaired\"] = label_encoder_repaird.fit_transform(X[\"Repaired\"])"
   ]
  },
  {
   "cell_type": "code",
   "execution_count": 81,
   "metadata": {},
   "outputs": [],
   "source": [
    "ordinal = preprocessing.OrdinalEncoder()\n",
    "#ordinal.fit_transform(X=X[[\"Asin\", \"Category\", \"Condition\", \"Item_State\", \"Accessory_Complete\", \"OVP\", \"Repaired\", \"Case_Swap\", \"Seal_Sticker_Damaged\"]])"
   ]
  },
  {
   "cell_type": "code",
   "execution_count": 130,
   "metadata": {},
   "outputs": [],
   "source": [
    "X_train, X_test, y_train, y_test = train_test_split(X, y, test_size=0.33, random_state=1)"
   ]
  },
  {
   "cell_type": "code",
   "execution_count": 131,
   "metadata": {},
   "outputs": [
    {
     "name": "stdout",
     "output_type": "stream",
     "text": [
      "0.5040257648953301\n",
      "[0.4793314  0.15369379 0.13402845 0.23294636]\n"
     ]
    }
   ],
   "source": [
    "clf_tree = tree.DecisionTreeClassifier(max_depth = 21, min_samples_leaf=20, random_state=1)\n",
    "clf_tree = clf_tree.fit(X_train, y_train)\n",
    "print(clf_tree.score(X_test, y_test))\n",
    "importances = clf_tree.feature_importances_\n",
    "print(importances)"
   ]
  },
  {
   "cell_type": "code",
   "execution_count": 132,
   "metadata": {},
   "outputs": [
    {
     "name": "stdout",
     "output_type": "stream",
     "text": [
      "0.5344605475040257\n"
     ]
    }
   ],
   "source": [
    "clf_forest = ensemble.RandomForestClassifier(max_depth = 21, min_samples_leaf=20, random_state=1)\n",
    "clf_forest = clf_forest.fit(X_train, y_train)\n",
    "print(clf_forest.score(X_test, y_test))"
   ]
  },
  {
   "cell_type": "code",
   "execution_count": 133,
   "metadata": {},
   "outputs": [
    {
     "name": "stdout",
     "output_type": "stream",
     "text": [
      "0.4568438003220612\n"
     ]
    }
   ],
   "source": [
    "clf_knn = neighbors.KNeighborsClassifier()\n",
    "clf_knn = clf_knn.fit(X_train, y_train)\n",
    "print(clf_knn.score(X_test, y_test))"
   ]
  },
  {
   "cell_type": "code",
   "execution_count": 134,
   "metadata": {},
   "outputs": [
    {
     "name": "stdout",
     "output_type": "stream",
     "text": [
      "0.4714975845410628\n"
     ]
    }
   ],
   "source": [
    "clf_svm = svm.SVC(random_state=1)\n",
    "clf_svm = clf_svm.fit(X_train, y_train)\n",
    "print(clf_svm.score(X_test, y_test))"
   ]
  },
  {
   "cell_type": "code",
   "execution_count": null,
   "metadata": {},
   "outputs": [],
   "source": []
  }
 ],
 "metadata": {
  "interpreter": {
   "hash": "3373210a82d3f1d961838cfcb56f0897eacf0729d8aa34e7e0b4afe4895b61f3"
  },
  "kernelspec": {
   "display_name": "Python 3.9.13 ('.venv': venv)",
   "language": "python",
   "name": "python3"
  },
  "language_info": {
   "codemirror_mode": {
    "name": "ipython",
    "version": 3
   },
   "file_extension": ".py",
   "mimetype": "text/x-python",
   "name": "python",
   "nbconvert_exporter": "python",
   "pygments_lexer": "ipython3",
   "version": "3.9.13"
  },
  "orig_nbformat": 4
 },
 "nbformat": 4,
 "nbformat_minor": 2
}
